{
 "cells": [
  {
   "cell_type": "markdown",
   "metadata": {},
   "source": [
    "# Deep Neural Network for Image Classification: Application\n",
    "\n",
    "By the time you complete this notebook, you will have finished the last programming assignment of Week 4, and also the last programming assignment of Course 1! Go you! \n",
    "\n",
    "To build your cat/not-a-cat classifier, you'll use the functions from the previous assignment to build a deep network. Hopefully, you'll see an improvement in accuracy over your previous logistic regression implementation.  \n",
    "\n",
    "**After this assignment you will be able to:**\n",
    "\n",
    "- Build and train a deep L-layer neural network, and apply it to supervised learning\n",
    "\n",
    "Let's get started!"
   ]
  },
  {
   "cell_type": "markdown",
   "metadata": {},
   "source": [
    "## Table of Contents\n",
    "- [1 - Packages](#1)\n",
    "- [2 - Load and Process the Dataset](#2)\n",
    "- [3 - Model Architecture](#3)\n",
    "    - [3.1 - 2-layer Neural Network](#3-1)\n",
    "    - [3.2 - L-layer Deep Neural Network](#3-2)\n",
    "    - [3.3 - General Methodology](#3-3)\n",
    "- [4 - Two-layer Neural Network](#4)\n",
    "    - [Exercise 1 - two_layer_model](#ex-1)\n",
    "    - [4.1 - Train the model](#4-1)\n",
    "- [5 - L-layer Neural Network](#5)\n",
    "    - [Exercise 2 - L_layer_model](#ex-2)\n",
    "    - [5.1 - Train the model](#5-1)\n",
    "- [6 - Results Analysis](#6)\n",
    "- [7 - Test with your own image (optional/ungraded exercise)](#7)"
   ]
  },
  {
   "cell_type": "markdown",
   "metadata": {},
   "source": [
    "<a name='1'></a>\n",
    "## 1 - Packages"
   ]
  },
  {
   "cell_type": "markdown",
   "metadata": {},
   "source": [
    "Begin by importing all the packages you'll need during this assignment. \n",
    "\n",
    "- [numpy](https://www.numpy.org/) is the fundamental package for scientific computing with Python.\n",
    "- [matplotlib](http://matplotlib.org) is a library to plot graphs in Python.\n",
    "- [h5py](http://www.h5py.org) is a common package to interact with a dataset that is stored on an H5 file.\n",
    "- [PIL](http://www.pythonware.com/products/pil/) and [scipy](https://www.scipy.org/) are used here to test your model with your own picture at the end.\n",
    "- `dnn_app_utils` provides the functions implemented in the \"Building your Deep Neural Network: Step by Step\" assignment to this notebook.\n",
    "- `np.random.seed(1)` is used to keep all the random function calls consistent. It helps grade your work - so please don't change it! "
   ]
  },
  {
   "cell_type": "code",
   "execution_count": 1,
   "metadata": {},
   "outputs": [],
   "source": [
    "import time\n",
    "import numpy as np\n",
    "import h5py\n",
    "import matplotlib.pyplot as plt\n",
    "import scipy\n",
    "from PIL import Image\n",
    "from scipy import ndimage\n",
    "from dnn_app_utils_v3 import *\n",
    "from public_tests import *\n",
    "\n",
    "%matplotlib inline\n",
    "plt.rcParams['figure.figsize'] = (5.0, 4.0) # set default size of plots\n",
    "plt.rcParams['image.interpolation'] = 'nearest'\n",
    "plt.rcParams['image.cmap'] = 'gray'\n",
    "\n",
    "%load_ext autoreload\n",
    "%autoreload 2\n",
    "\n",
    "np.random.seed(1)"
   ]
  },
  {
   "cell_type": "markdown",
   "metadata": {},
   "source": [
    "<a name='2'></a>\n",
    "## 2 - Load and Process the Dataset\n",
    "\n",
    "You'll be using the same \"Cat vs non-Cat\" dataset as in \"Logistic Regression as a Neural Network\" (Assignment 2). The model you built back then had 70% test accuracy on classifying cat vs non-cat images. Hopefully, your new model will perform even better!\n",
    "\n",
    "**Problem Statement**: You are given a dataset (\"data.h5\") containing:\n",
    "    - a training set of `m_train` images labelled as cat (1) or non-cat (0)\n",
    "    - a test set of `m_test` images labelled as cat and non-cat\n",
    "    - each image is of shape (num_px, num_px, 3) where 3 is for the 3 channels (RGB).\n",
    "\n",
    "Let's get more familiar with the dataset. Load the data by running the cell below."
   ]
  },
  {
   "cell_type": "code",
   "execution_count": 2,
   "metadata": {},
   "outputs": [],
   "source": [
    "train_x_orig, train_y, test_x_orig, test_y, classes = load_data()"
   ]
  },
  {
   "cell_type": "markdown",
   "metadata": {},
   "source": [
    "The following code will show you an image in the dataset. Feel free to change the index and re-run the cell multiple times to check out other images. "
   ]
  },
  {
   "cell_type": "code",
   "execution_count": 4,
   "metadata": {},
   "outputs": [
    {
     "output_type": "stream",
     "name": "stdout",
     "text": [
      "y = 0. It's a non-cat picture.\n"
     ]
    },
    {
     "output_type": "display_data",
     "data": {
      "text/plain": "<Figure size 360x288 with 1 Axes>",
      "image/svg+xml": "<?xml version=\"1.0\" encoding=\"utf-8\" standalone=\"no\"?>\r\n<!DOCTYPE svg PUBLIC \"-//W3C//DTD SVG 1.1//EN\"\r\n  \"http://www.w3.org/Graphics/SVG/1.1/DTD/svg11.dtd\">\r\n<!-- Created with matplotlib (https://matplotlib.org/) -->\r\n<svg height=\"250.618594pt\" version=\"1.1\" viewBox=\"0 0 251.565 250.618594\" width=\"251.565pt\" xmlns=\"http://www.w3.org/2000/svg\" xmlns:xlink=\"http://www.w3.org/1999/xlink\">\r\n <defs>\r\n  <style type=\"text/css\">\r\n*{stroke-linecap:butt;stroke-linejoin:round;}\r\n  </style>\r\n </defs>\r\n <g id=\"figure_1\">\r\n  <g id=\"patch_1\">\r\n   <path d=\"M -0 250.618594 \r\nL 251.565 250.618594 \r\nL 251.565 0 \r\nL -0 0 \r\nz\r\n\" style=\"fill:none;\"/>\r\n  </g>\r\n  <g id=\"axes_1\">\r\n   <g id=\"patch_2\">\r\n    <path d=\"M 26.925 226.740469 \r\nL 244.365 226.740469 \r\nL 244.365 9.300469 \r\nL 26.925 9.300469 \r\nz\r\n\" style=\"fill:#ffffff;\"/>\r\n   </g>\r\n   <g clip-path=\"url(#p16339aebf4)\">\r\n    <image height=\"218\" id=\"image464862f9ae\" transform=\"scale(1 -1)translate(0 -218)\" width=\"218\" x=\"26.925\" xlink:href=\"data:image/png;base64,\r\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\" y=\"-8.740469\"/>\r\n   </g>\r\n   <g id=\"matplotlib.axis_1\">\r\n    <g id=\"xtick_1\">\r\n     <g id=\"line2d_1\">\r\n      <defs>\r\n       <path d=\"M 0 0 \r\nL 0 3.5 \r\n\" id=\"mcdbd7fcfe1\" style=\"stroke:#000000;stroke-width:0.8;\"/>\r\n      </defs>\r\n      <g>\r\n       <use style=\"stroke:#000000;stroke-width:0.8;\" x=\"28.62375\" xlink:href=\"#mcdbd7fcfe1\" y=\"226.740469\"/>\r\n      </g>\r\n     </g>\r\n     <g id=\"text_1\">\r\n      <!-- 0 -->\r\n      <defs>\r\n       <path d=\"M 31.78125 66.40625 \r\nQ 24.171875 66.40625 20.328125 58.90625 \r\nQ 16.5 51.421875 16.5 36.375 \r\nQ 16.5 21.390625 20.328125 13.890625 \r\nQ 24.171875 6.390625 31.78125 6.390625 \r\nQ 39.453125 6.390625 43.28125 13.890625 \r\nQ 47.125 21.390625 47.125 36.375 \r\nQ 47.125 51.421875 43.28125 58.90625 \r\nQ 39.453125 66.40625 31.78125 66.40625 \r\nz\r\nM 31.78125 74.21875 \r\nQ 44.046875 74.21875 50.515625 64.515625 \r\nQ 56.984375 54.828125 56.984375 36.375 \r\nQ 56.984375 17.96875 50.515625 8.265625 \r\nQ 44.046875 -1.421875 31.78125 -1.421875 \r\nQ 19.53125 -1.421875 13.0625 8.265625 \r\nQ 6.59375 17.96875 6.59375 36.375 \r\nQ 6.59375 54.828125 13.0625 64.515625 \r\nQ 19.53125 74.21875 31.78125 74.21875 \r\nz\r\n\" id=\"DejaVuSans-48\"/>\r\n      </defs>\r\n      <g transform=\"translate(25.4425 241.338906)scale(0.1 -0.1)\">\r\n       <use xlink:href=\"#DejaVuSans-48\"/>\r\n      </g>\r\n     </g>\r\n    </g>\r\n    <g id=\"xtick_2\">\r\n     <g id=\"line2d_2\">\r\n      <g>\r\n       <use style=\"stroke:#000000;stroke-width:0.8;\" x=\"62.59875\" xlink:href=\"#mcdbd7fcfe1\" y=\"226.740469\"/>\r\n      </g>\r\n     </g>\r\n     <g id=\"text_2\">\r\n      <!-- 10 -->\r\n      <defs>\r\n       <path d=\"M 12.40625 8.296875 \r\nL 28.515625 8.296875 \r\nL 28.515625 63.921875 \r\nL 10.984375 60.40625 \r\nL 10.984375 69.390625 \r\nL 28.421875 72.90625 \r\nL 38.28125 72.90625 \r\nL 38.28125 8.296875 \r\nL 54.390625 8.296875 \r\nL 54.390625 0 \r\nL 12.40625 0 \r\nz\r\n\" id=\"DejaVuSans-49\"/>\r\n      </defs>\r\n      <g transform=\"translate(56.23625 241.338906)scale(0.1 -0.1)\">\r\n       <use xlink:href=\"#DejaVuSans-49\"/>\r\n       <use x=\"63.623047\" xlink:href=\"#DejaVuSans-48\"/>\r\n      </g>\r\n     </g>\r\n    </g>\r\n    <g id=\"xtick_3\">\r\n     <g id=\"line2d_3\">\r\n      <g>\r\n       <use style=\"stroke:#000000;stroke-width:0.8;\" x=\"96.57375\" xlink:href=\"#mcdbd7fcfe1\" y=\"226.740469\"/>\r\n      </g>\r\n     </g>\r\n     <g id=\"text_3\">\r\n      <!-- 20 -->\r\n      <defs>\r\n       <path d=\"M 19.1875 8.296875 \r\nL 53.609375 8.296875 \r\nL 53.609375 0 \r\nL 7.328125 0 \r\nL 7.328125 8.296875 \r\nQ 12.9375 14.109375 22.625 23.890625 \r\nQ 32.328125 33.6875 34.8125 36.53125 \r\nQ 39.546875 41.84375 41.421875 45.53125 \r\nQ 43.3125 49.21875 43.3125 52.78125 \r\nQ 43.3125 58.59375 39.234375 62.25 \r\nQ 35.15625 65.921875 28.609375 65.921875 \r\nQ 23.96875 65.921875 18.8125 64.3125 \r\nQ 13.671875 62.703125 7.8125 59.421875 \r\nL 7.8125 69.390625 \r\nQ 13.765625 71.78125 18.9375 73 \r\nQ 24.125 74.21875 28.421875 74.21875 \r\nQ 39.75 74.21875 46.484375 68.546875 \r\nQ 53.21875 62.890625 53.21875 53.421875 \r\nQ 53.21875 48.921875 51.53125 44.890625 \r\nQ 49.859375 40.875 45.40625 35.40625 \r\nQ 44.1875 33.984375 37.640625 27.21875 \r\nQ 31.109375 20.453125 19.1875 8.296875 \r\nz\r\n\" id=\"DejaVuSans-50\"/>\r\n      </defs>\r\n      <g transform=\"translate(90.21125 241.338906)scale(0.1 -0.1)\">\r\n       <use xlink:href=\"#DejaVuSans-50\"/>\r\n       <use x=\"63.623047\" xlink:href=\"#DejaVuSans-48\"/>\r\n      </g>\r\n     </g>\r\n    </g>\r\n    <g id=\"xtick_4\">\r\n     <g id=\"line2d_4\">\r\n      <g>\r\n       <use style=\"stroke:#000000;stroke-width:0.8;\" x=\"130.54875\" xlink:href=\"#mcdbd7fcfe1\" y=\"226.740469\"/>\r\n      </g>\r\n     </g>\r\n     <g id=\"text_4\">\r\n      <!-- 30 -->\r\n      <defs>\r\n       <path d=\"M 40.578125 39.3125 \r\nQ 47.65625 37.796875 51.625 33 \r\nQ 55.609375 28.21875 55.609375 21.1875 \r\nQ 55.609375 10.40625 48.1875 4.484375 \r\nQ 40.765625 -1.421875 27.09375 -1.421875 \r\nQ 22.515625 -1.421875 17.65625 -0.515625 \r\nQ 12.796875 0.390625 7.625 2.203125 \r\nL 7.625 11.71875 \r\nQ 11.71875 9.328125 16.59375 8.109375 \r\nQ 21.484375 6.890625 26.8125 6.890625 \r\nQ 36.078125 6.890625 40.9375 10.546875 \r\nQ 45.796875 14.203125 45.796875 21.1875 \r\nQ 45.796875 27.640625 41.28125 31.265625 \r\nQ 36.765625 34.90625 28.71875 34.90625 \r\nL 20.21875 34.90625 \r\nL 20.21875 43.015625 \r\nL 29.109375 43.015625 \r\nQ 36.375 43.015625 40.234375 45.921875 \r\nQ 44.09375 48.828125 44.09375 54.296875 \r\nQ 44.09375 59.90625 40.109375 62.90625 \r\nQ 36.140625 65.921875 28.71875 65.921875 \r\nQ 24.65625 65.921875 20.015625 65.03125 \r\nQ 15.375 64.15625 9.8125 62.3125 \r\nL 9.8125 71.09375 \r\nQ 15.4375 72.65625 20.34375 73.4375 \r\nQ 25.25 74.21875 29.59375 74.21875 \r\nQ 40.828125 74.21875 47.359375 69.109375 \r\nQ 53.90625 64.015625 53.90625 55.328125 \r\nQ 53.90625 49.265625 50.4375 45.09375 \r\nQ 46.96875 40.921875 40.578125 39.3125 \r\nz\r\n\" id=\"DejaVuSans-51\"/>\r\n      </defs>\r\n      <g transform=\"translate(124.18625 241.338906)scale(0.1 -0.1)\">\r\n       <use xlink:href=\"#DejaVuSans-51\"/>\r\n       <use x=\"63.623047\" xlink:href=\"#DejaVuSans-48\"/>\r\n      </g>\r\n     </g>\r\n    </g>\r\n    <g id=\"xtick_5\">\r\n     <g id=\"line2d_5\">\r\n      <g>\r\n       <use style=\"stroke:#000000;stroke-width:0.8;\" x=\"164.52375\" xlink:href=\"#mcdbd7fcfe1\" y=\"226.740469\"/>\r\n      </g>\r\n     </g>\r\n     <g id=\"text_5\">\r\n      <!-- 40 -->\r\n      <defs>\r\n       <path d=\"M 37.796875 64.3125 \r\nL 12.890625 25.390625 \r\nL 37.796875 25.390625 \r\nz\r\nM 35.203125 72.90625 \r\nL 47.609375 72.90625 \r\nL 47.609375 25.390625 \r\nL 58.015625 25.390625 \r\nL 58.015625 17.1875 \r\nL 47.609375 17.1875 \r\nL 47.609375 0 \r\nL 37.796875 0 \r\nL 37.796875 17.1875 \r\nL 4.890625 17.1875 \r\nL 4.890625 26.703125 \r\nz\r\n\" id=\"DejaVuSans-52\"/>\r\n      </defs>\r\n      <g transform=\"translate(158.16125 241.338906)scale(0.1 -0.1)\">\r\n       <use xlink:href=\"#DejaVuSans-52\"/>\r\n       <use x=\"63.623047\" xlink:href=\"#DejaVuSans-48\"/>\r\n      </g>\r\n     </g>\r\n    </g>\r\n    <g id=\"xtick_6\">\r\n     <g id=\"line2d_6\">\r\n      <g>\r\n       <use style=\"stroke:#000000;stroke-width:0.8;\" x=\"198.49875\" xlink:href=\"#mcdbd7fcfe1\" y=\"226.740469\"/>\r\n      </g>\r\n     </g>\r\n     <g id=\"text_6\">\r\n      <!-- 50 -->\r\n      <defs>\r\n       <path d=\"M 10.796875 72.90625 \r\nL 49.515625 72.90625 \r\nL 49.515625 64.59375 \r\nL 19.828125 64.59375 \r\nL 19.828125 46.734375 \r\nQ 21.96875 47.46875 24.109375 47.828125 \r\nQ 26.265625 48.1875 28.421875 48.1875 \r\nQ 40.625 48.1875 47.75 41.5 \r\nQ 54.890625 34.8125 54.890625 23.390625 \r\nQ 54.890625 11.625 47.5625 5.09375 \r\nQ 40.234375 -1.421875 26.90625 -1.421875 \r\nQ 22.3125 -1.421875 17.546875 -0.640625 \r\nQ 12.796875 0.140625 7.71875 1.703125 \r\nL 7.71875 11.625 \r\nQ 12.109375 9.234375 16.796875 8.0625 \r\nQ 21.484375 6.890625 26.703125 6.890625 \r\nQ 35.15625 6.890625 40.078125 11.328125 \r\nQ 45.015625 15.765625 45.015625 23.390625 \r\nQ 45.015625 31 40.078125 35.4375 \r\nQ 35.15625 39.890625 26.703125 39.890625 \r\nQ 22.75 39.890625 18.8125 39.015625 \r\nQ 14.890625 38.140625 10.796875 36.28125 \r\nz\r\n\" id=\"DejaVuSans-53\"/>\r\n      </defs>\r\n      <g transform=\"translate(192.13625 241.338906)scale(0.1 -0.1)\">\r\n       <use xlink:href=\"#DejaVuSans-53\"/>\r\n       <use x=\"63.623047\" xlink:href=\"#DejaVuSans-48\"/>\r\n      </g>\r\n     </g>\r\n    </g>\r\n    <g id=\"xtick_7\">\r\n     <g id=\"line2d_7\">\r\n      <g>\r\n       <use style=\"stroke:#000000;stroke-width:0.8;\" x=\"232.47375\" xlink:href=\"#mcdbd7fcfe1\" y=\"226.740469\"/>\r\n      </g>\r\n     </g>\r\n     <g id=\"text_7\">\r\n      <!-- 60 -->\r\n      <defs>\r\n       <path d=\"M 33.015625 40.375 \r\nQ 26.375 40.375 22.484375 35.828125 \r\nQ 18.609375 31.296875 18.609375 23.390625 \r\nQ 18.609375 15.53125 22.484375 10.953125 \r\nQ 26.375 6.390625 33.015625 6.390625 \r\nQ 39.65625 6.390625 43.53125 10.953125 \r\nQ 47.40625 15.53125 47.40625 23.390625 \r\nQ 47.40625 31.296875 43.53125 35.828125 \r\nQ 39.65625 40.375 33.015625 40.375 \r\nz\r\nM 52.59375 71.296875 \r\nL 52.59375 62.3125 \r\nQ 48.875 64.0625 45.09375 64.984375 \r\nQ 41.3125 65.921875 37.59375 65.921875 \r\nQ 27.828125 65.921875 22.671875 59.328125 \r\nQ 17.53125 52.734375 16.796875 39.40625 \r\nQ 19.671875 43.65625 24.015625 45.921875 \r\nQ 28.375 48.1875 33.59375 48.1875 \r\nQ 44.578125 48.1875 50.953125 41.515625 \r\nQ 57.328125 34.859375 57.328125 23.390625 \r\nQ 57.328125 12.15625 50.6875 5.359375 \r\nQ 44.046875 -1.421875 33.015625 -1.421875 \r\nQ 20.359375 -1.421875 13.671875 8.265625 \r\nQ 6.984375 17.96875 6.984375 36.375 \r\nQ 6.984375 53.65625 15.1875 63.9375 \r\nQ 23.390625 74.21875 37.203125 74.21875 \r\nQ 40.921875 74.21875 44.703125 73.484375 \r\nQ 48.484375 72.75 52.59375 71.296875 \r\nz\r\n\" id=\"DejaVuSans-54\"/>\r\n      </defs>\r\n      <g transform=\"translate(226.11125 241.338906)scale(0.1 -0.1)\">\r\n       <use xlink:href=\"#DejaVuSans-54\"/>\r\n       <use x=\"63.623047\" xlink:href=\"#DejaVuSans-48\"/>\r\n      </g>\r\n     </g>\r\n    </g>\r\n   </g>\r\n   <g id=\"matplotlib.axis_2\">\r\n    <g id=\"ytick_1\">\r\n     <g id=\"line2d_8\">\r\n      <defs>\r\n       <path d=\"M 0 0 \r\nL -3.5 0 \r\n\" id=\"m0333e259de\" style=\"stroke:#000000;stroke-width:0.8;\"/>\r\n      </defs>\r\n      <g>\r\n       <use style=\"stroke:#000000;stroke-width:0.8;\" x=\"26.925\" xlink:href=\"#m0333e259de\" y=\"10.999219\"/>\r\n      </g>\r\n     </g>\r\n     <g id=\"text_8\">\r\n      <!-- 0 -->\r\n      <g transform=\"translate(13.5625 14.798437)scale(0.1 -0.1)\">\r\n       <use xlink:href=\"#DejaVuSans-48\"/>\r\n      </g>\r\n     </g>\r\n    </g>\r\n    <g id=\"ytick_2\">\r\n     <g id=\"line2d_9\">\r\n      <g>\r\n       <use style=\"stroke:#000000;stroke-width:0.8;\" x=\"26.925\" xlink:href=\"#m0333e259de\" y=\"44.974219\"/>\r\n      </g>\r\n     </g>\r\n     <g id=\"text_9\">\r\n      <!-- 10 -->\r\n      <g transform=\"translate(7.2 48.773437)scale(0.1 -0.1)\">\r\n       <use xlink:href=\"#DejaVuSans-49\"/>\r\n       <use x=\"63.623047\" xlink:href=\"#DejaVuSans-48\"/>\r\n      </g>\r\n     </g>\r\n    </g>\r\n    <g id=\"ytick_3\">\r\n     <g id=\"line2d_10\">\r\n      <g>\r\n       <use style=\"stroke:#000000;stroke-width:0.8;\" x=\"26.925\" xlink:href=\"#m0333e259de\" y=\"78.949219\"/>\r\n      </g>\r\n     </g>\r\n     <g id=\"text_10\">\r\n      <!-- 20 -->\r\n      <g transform=\"translate(7.2 82.748437)scale(0.1 -0.1)\">\r\n       <use xlink:href=\"#DejaVuSans-50\"/>\r\n       <use x=\"63.623047\" xlink:href=\"#DejaVuSans-48\"/>\r\n      </g>\r\n     </g>\r\n    </g>\r\n    <g id=\"ytick_4\">\r\n     <g id=\"line2d_11\">\r\n      <g>\r\n       <use style=\"stroke:#000000;stroke-width:0.8;\" x=\"26.925\" xlink:href=\"#m0333e259de\" y=\"112.924219\"/>\r\n      </g>\r\n     </g>\r\n     <g id=\"text_11\">\r\n      <!-- 30 -->\r\n      <g transform=\"translate(7.2 116.723437)scale(0.1 -0.1)\">\r\n       <use xlink:href=\"#DejaVuSans-51\"/>\r\n       <use x=\"63.623047\" xlink:href=\"#DejaVuSans-48\"/>\r\n      </g>\r\n     </g>\r\n    </g>\r\n    <g id=\"ytick_5\">\r\n     <g id=\"line2d_12\">\r\n      <g>\r\n       <use style=\"stroke:#000000;stroke-width:0.8;\" x=\"26.925\" xlink:href=\"#m0333e259de\" y=\"146.899219\"/>\r\n      </g>\r\n     </g>\r\n     <g id=\"text_12\">\r\n      <!-- 40 -->\r\n      <g transform=\"translate(7.2 150.698437)scale(0.1 -0.1)\">\r\n       <use xlink:href=\"#DejaVuSans-52\"/>\r\n       <use x=\"63.623047\" xlink:href=\"#DejaVuSans-48\"/>\r\n      </g>\r\n     </g>\r\n    </g>\r\n    <g id=\"ytick_6\">\r\n     <g id=\"line2d_13\">\r\n      <g>\r\n       <use style=\"stroke:#000000;stroke-width:0.8;\" x=\"26.925\" xlink:href=\"#m0333e259de\" y=\"180.874219\"/>\r\n      </g>\r\n     </g>\r\n     <g id=\"text_13\">\r\n      <!-- 50 -->\r\n      <g transform=\"translate(7.2 184.673437)scale(0.1 -0.1)\">\r\n       <use xlink:href=\"#DejaVuSans-53\"/>\r\n       <use x=\"63.623047\" xlink:href=\"#DejaVuSans-48\"/>\r\n      </g>\r\n     </g>\r\n    </g>\r\n    <g id=\"ytick_7\">\r\n     <g id=\"line2d_14\">\r\n      <g>\r\n       <use style=\"stroke:#000000;stroke-width:0.8;\" x=\"26.925\" xlink:href=\"#m0333e259de\" y=\"214.849219\"/>\r\n      </g>\r\n     </g>\r\n     <g id=\"text_14\">\r\n      <!-- 60 -->\r\n      <g transform=\"translate(7.2 218.648437)scale(0.1 -0.1)\">\r\n       <use xlink:href=\"#DejaVuSans-54\"/>\r\n       <use x=\"63.623047\" xlink:href=\"#DejaVuSans-48\"/>\r\n      </g>\r\n     </g>\r\n    </g>\r\n   </g>\r\n   <g id=\"patch_3\">\r\n    <path d=\"M 26.925 226.740469 \r\nL 26.925 9.300469 \r\n\" style=\"fill:none;stroke:#000000;stroke-linecap:square;stroke-linejoin:miter;stroke-width:0.8;\"/>\r\n   </g>\r\n   <g id=\"patch_4\">\r\n    <path d=\"M 244.365 226.740469 \r\nL 244.365 9.300469 \r\n\" style=\"fill:none;stroke:#000000;stroke-linecap:square;stroke-linejoin:miter;stroke-width:0.8;\"/>\r\n   </g>\r\n   <g id=\"patch_5\">\r\n    <path d=\"M 26.925 226.740469 \r\nL 244.365 226.740469 \r\n\" style=\"fill:none;stroke:#000000;stroke-linecap:square;stroke-linejoin:miter;stroke-width:0.8;\"/>\r\n   </g>\r\n   <g id=\"patch_6\">\r\n    <path d=\"M 26.925 9.300469 \r\nL 244.365 9.300469 \r\n\" style=\"fill:none;stroke:#000000;stroke-linecap:square;stroke-linejoin:miter;stroke-width:0.8;\"/>\r\n   </g>\r\n  </g>\r\n </g>\r\n <defs>\r\n  <clipPath id=\"p16339aebf4\">\r\n   <rect height=\"217.44\" width=\"217.44\" x=\"26.925\" y=\"9.300469\"/>\r\n  </clipPath>\r\n </defs>\r\n</svg>\r\n",
      "image/png": "[encoded data removed]"
     },
     "metadata": {
      "needs_background": "light"
     }
    }
   ],
   "source": [
    "# Example of a picture\n",
    "index = 30\n",
    "plt.imshow(train_x_orig[index])\n",
    "print (\"y = \" + str(train_y[0,index]) + \". It's a \" + classes[train_y[0,index]].decode(\"utf-8\") +  \" picture.\")"
   ]
  },
  {
   "cell_type": "code",
   "execution_count": 5,
   "metadata": {},
   "outputs": [
    {
     "output_type": "stream",
     "name": "stdout",
     "text": [
      "Number of training examples: 209\nNumber of testing examples: 50\nEach image is of size: (64, 64, 3)\ntrain_x_orig shape: (209, 64, 64, 3)\ntrain_y shape: (1, 209)\ntest_x_orig shape: (50, 64, 64, 3)\ntest_y shape: (1, 50)\n"
     ]
    }
   ],
   "source": [
    "# Explore your dataset \n",
    "m_train = train_x_orig.shape[0]\n",
    "num_px = train_x_orig.shape[1]\n",
    "m_test = test_x_orig.shape[0]\n",
    "\n",
    "print (\"Number of training examples: \" + str(m_train))\n",
    "print (\"Number of testing examples: \" + str(m_test))\n",
    "print (\"Each image is of size: (\" + str(num_px) + \", \" + str(num_px) + \", 3)\")\n",
    "print (\"train_x_orig shape: \" + str(train_x_orig.shape))\n",
    "print (\"train_y shape: \" + str(train_y.shape))\n",
    "print (\"test_x_orig shape: \" + str(test_x_orig.shape))\n",
    "print (\"test_y shape: \" + str(test_y.shape))"
   ]
  },
  {
   "cell_type": "markdown",
   "metadata": {},
   "source": [
    "As usual, you reshape and standardize the images before feeding them to the network. The code is given in the cell below.\n",
    "\n",
    "<img src=\"images/imvectorkiank.png\" style=\"width:450px;height:300px;\">\n",
    "<caption><center><font color='purple'><b>Figure 1</b>: Image to vector conversion.</font></center></caption>"
   ]
  },
  {
   "cell_type": "code",
   "execution_count": 6,
   "metadata": {},
   "outputs": [
    {
     "output_type": "stream",
     "name": "stdout",
     "text": [
      "train_x's shape: (12288, 209)\ntest_x's shape: (12288, 50)\n"
     ]
    }
   ],
   "source": [
    "# Reshape the training and test examples \n",
    "train_x_flatten = train_x_orig.reshape(train_x_orig.shape[0], -1).T   # The \"-1\" makes reshape flatten the remaining dimensions\n",
    "test_x_flatten = test_x_orig.reshape(test_x_orig.shape[0], -1).T\n",
    "\n",
    "# Standardize data to have feature values between 0 and 1.\n",
    "train_x = train_x_flatten/255.\n",
    "test_x = test_x_flatten/255.\n",
    "\n",
    "print (\"train_x's shape: \" + str(train_x.shape))\n",
    "print (\"test_x's shape: \" + str(test_x.shape))"
   ]
  },
  {
   "cell_type": "markdown",
   "metadata": {},
   "source": [
    "**Note**:\n",
    "$12,288$ equals $64 \\times 64 \\times 3$, which is the size of one reshaped image vector."
   ]
  },
  {
   "cell_type": "markdown",
   "metadata": {},
   "source": [
    "<a name='3'></a>\n",
    "## 3 - Model Architecture"
   ]
  },
  {
   "cell_type": "markdown",
   "metadata": {},
   "source": [
    "<a name='3-1'></a>\n",
    "### 3.1 - 2-layer Neural Network\n",
    "\n",
    "Now that you're familiar with the dataset, it's time to build a deep neural network to distinguish cat images from non-cat images!\n",
    "\n",
    "You're going to build two different models:\n",
    "\n",
    "- A 2-layer neural network\n",
    "- An L-layer deep neural network\n",
    "\n",
    "Then, you'll compare the performance of these models, and try out some different values for $L$. \n",
    "\n",
    "Let's look at the two architectures:\n",
    "\n",
    "<img src=\"images/2layerNN_kiank.png\" style=\"width:650px;height:400px;\">\n",
    "<caption><center><font color='purple'><b>Figure 2</b>: 2-layer neural network. <br> The model can be summarized as: INPUT -> LINEAR -> RELU -> LINEAR -> SIGMOID -> OUTPUT.</font></center></caption>\n",
    "\n",
    "<u><b>Detailed Architecture of Figure 2</b></u>:\n",
    "- The input is a (64,64,3) image which is flattened to a vector of size $(12288,1)$. \n",
    "- The corresponding vector: $[x_0,x_1,...,x_{12287}]^T$ is then multiplied by the weight matrix $W^{[1]}$ of size $(n^{[1]}, 12288)$.\n",
    "- Then, add a bias term and take its relu to get the following vector: $[a_0^{[1]}, a_1^{[1]},..., a_{n^{[1]}-1}^{[1]}]^T$.\n",
    "- Repeat the same process.\n",
    "- Multiply the resulting vector by $W^{[2]}$ and add the intercept (bias). \n",
    "- Finally, take the sigmoid of the result. If it's greater than 0.5, classify it as a cat.\n",
    "\n",
    "<a name='3-2'></a>\n",
    "### 3.2 - L-layer Deep Neural Network\n",
    "\n",
    "It's pretty difficult to represent an L-layer deep neural network using the above representation. However, here is a simplified network representation:\n",
    "\n",
    "<img src=\"images/LlayerNN_kiank.png\" style=\"width:650px;height:400px;\">\n",
    "<caption><center><font color='purple'><b>Figure 3</b>: L-layer neural network. <br> The model can be summarized as: [LINEAR -> RELU] $\\times$ (L-1) -> LINEAR -> SIGMOID</font></center></caption>\n",
    "\n",
    "<u><b>Detailed Architecture of Figure 3</b></u>:\n",
    "- The input is a (64,64,3) image which is flattened to a vector of size (12288,1).\n",
    "- The corresponding vector: $[x_0,x_1,...,x_{12287}]^T$ is then multiplied by the weight matrix $W^{[1]}$ and then you add the intercept $b^{[1]}$. The result is called the linear unit.\n",
    "- Next, take the relu of the linear unit. This process could be repeated several times for each $(W^{[l]}, b^{[l]})$ depending on the model architecture.\n",
    "- Finally, take the sigmoid of the final linear unit. If it is greater than 0.5, classify it as a cat.\n",
    "\n",
    "<a name='3-3'></a>\n",
    "### 3.3 - General Methodology\n",
    "\n",
    "As usual, you'll follow the Deep Learning methodology to build the model:\n",
    "\n",
    "1. Initialize parameters / Define hyperparameters\n",
    "2. Loop for num_iterations:\n",
    "    a. Forward propagation\n",
    "    b. Compute cost function\n",
    "    c. Backward propagation\n",
    "    d. Update parameters (using parameters, and grads from backprop) \n",
    "3. Use trained parameters to predict labels\n",
    "\n",
    "Now go ahead and implement those two models!"
   ]
  },
  {
   "cell_type": "markdown",
   "metadata": {},
   "source": [
    "<a name='4'></a>\n",
    "## 4 - Two-layer Neural Network\n",
    "\n",
    "<a name='ex-1'></a>\n",
    "### Exercise 1 - two_layer_model \n",
    "\n",
    "Use the helper functions you have implemented in the previous assignment to build a 2-layer neural network with the following structure: *LINEAR -> RELU -> LINEAR -> SIGMOID*. The functions and their inputs are:\n",
    "```python\n",
    "def initialize_parameters(n_x, n_h, n_y):\n",
    "    ...\n",
    "    return parameters \n",
    "def linear_activation_forward(A_prev, W, b, activation):\n",
    "    ...\n",
    "    return A, cache\n",
    "def compute_cost(AL, Y):\n",
    "    ...\n",
    "    return cost\n",
    "def linear_activation_backward(dA, cache, activation):\n",
    "    ...\n",
    "    return dA_prev, dW, db\n",
    "def update_parameters(parameters, grads, learning_rate):\n",
    "    ...\n",
    "    return parameters\n",
    "```"
   ]
  },
  {
   "cell_type": "code",
   "execution_count": 7,
   "metadata": {},
   "outputs": [],
   "source": [
    "### CONSTANTS DEFINING THE MODEL ####\n",
    "n_x = 12288     # num_px * num_px * 3\n",
    "n_h = 7\n",
    "n_y = 1\n",
    "layers_dims = (n_x, n_h, n_y)\n",
    "learning_rate = 0.0075"
   ]
  },
  {
   "cell_type": "code",
   "execution_count": 13,
   "metadata": {
    "deletable": false,
    "nbgrader": {
     "cell_type": "code",
     "checksum": "db8e38ac17a149dc8e73efffd5cfbecf",
     "grade": false,
     "grade_id": "cell-46e7e26fe75ece95",
     "locked": false,
     "schema_version": 3,
     "solution": true,
     "task": false
    }
   },
   "outputs": [],
   "source": [
    "# GRADED FUNCTION: two_layer_model\n",
    "\n",
    "def two_layer_model(X, Y, layers_dims, learning_rate = 0.0075, num_iterations = 3000, print_cost=False):\n",
    "    \"\"\"\n",
    "    Implements a two-layer neural network: LINEAR->RELU->LINEAR->SIGMOID.\n",
    "    \n",
    "    Arguments:\n",
    "    X -- input data, of shape (n_x, number of examples)\n",
    "    Y -- true \"label\" vector (containing 1 if cat, 0 if non-cat), of shape (1, number of examples)\n",
    "    layers_dims -- dimensions of the layers (n_x, n_h, n_y)\n",
    "    num_iterations -- number of iterations of the optimization loop\n",
    "    learning_rate -- learning rate of the gradient descent update rule\n",
    "    print_cost -- If set to True, this will print the cost every 100 iterations \n",
    "    \n",
    "    Returns:\n",
    "    parameters -- a dictionary containing W1, W2, b1, and b2\n",
    "    \"\"\"\n",
    "    \n",
    "    np.random.seed(1)\n",
    "    grads = {}\n",
    "    costs = []                              # to keep track of the cost\n",
    "    m = X.shape[1]                           # number of examples\n",
    "    (n_x, n_h, n_y) = layers_dims\n",
    "    \n",
    "    # Initialize parameters dictionary, by calling one of the functions you'd previously implemented\n",
    "    #(≈ 1 line of code)\n",
    "    # parameters = ...\n",
    "    # YOUR CODE STARTS HERE\n",
    "    parameters = initialize_parameters(n_x, n_h, n_y)\n",
    "    \n",
    "    # YOUR CODE ENDS HERE\n",
    "    \n",
    "    # Get W1, b1, W2 and b2 from the dictionary parameters.\n",
    "    W1 = parameters[\"W1\"]\n",
    "    b1 = parameters[\"b1\"]\n",
    "    W2 = parameters[\"W2\"]\n",
    "    b2 = parameters[\"b2\"]\n",
    "    \n",
    "    # Loop (gradient descent)\n",
    "\n",
    "    for i in range(0, num_iterations):\n",
    "\n",
    "        # Forward propagation: LINEAR -> RELU -> LINEAR -> SIGMOID. Inputs: \"X, W1, b1, W2, b2\". Output: \"A1, cache1, A2, cache2\".\n",
    "        #(≈ 2 lines of code)\n",
    "        # A1, cache1 = ...\n",
    "        # A2, cache2 = ...\n",
    "        # YOUR CODE STARTS HERE\n",
    "        A1, cache1 = linear_activation_forward(X, W1, b1, activation=\"relu\")\n",
    "        A2, cache2 = linear_activation_forward(A1, W2, b2, activation=\"sigmoid\")\n",
    "        # YOUR CODE ENDS HERE\n",
    "        \n",
    "        # Compute cost\n",
    "        #(≈ 1 line of code)\n",
    "        # cost = ...\n",
    "        # YOUR CODE STARTS HERE\n",
    "        cost = compute_cost(A2, Y)\n",
    "        \n",
    "        # YOUR CODE ENDS HERE\n",
    "        \n",
    "        # Initializing backward propagation\n",
    "        dA2 = - (np.divide(Y, A2) - np.divide(1 - Y, 1 - A2))\n",
    "        \n",
    "        # Backward propagation. Inputs: \"dA2, cache2, cache1\". Outputs: \"dA1, dW2, db2; also dA0 (not used), dW1, db1\".\n",
    "        #(≈ 2 lines of code)\n",
    "        # dA1, dW2, db2 = ...\n",
    "        # dA0, dW1, db1 = ...\n",
    "        # YOUR CODE STARTS HERE\n",
    "        dA1, dW2, db2 = linear_activation_backward(dA2, cache2, activation=\"sigmoid\")\n",
    "        dA0, dW1, db1 = linear_activation_backward(dA1, cache1, activation=\"relu\")\n",
    "        # YOUR CODE ENDS HERE\n",
    "        \n",
    "        # Set grads['dWl'] to dW1, grads['db1'] to db1, grads['dW2'] to dW2, grads['db2'] to db2\n",
    "        grads['dW1'] = dW1\n",
    "        grads['db1'] = db1\n",
    "        grads['dW2'] = dW2\n",
    "        grads['db2'] = db2\n",
    "        \n",
    "        # Update parameters.\n",
    "        #(approx. 1 line of code)\n",
    "        # parameters = ...\n",
    "        # YOUR CODE STARTS HERE\n",
    "        parameters = update_parameters(parameters, grads, learning_rate)\n",
    "        \n",
    "        # YOUR CODE ENDS HERE\n",
    "\n",
    "        # Retrieve W1, b1, W2, b2 from parameters\n",
    "        W1 = parameters[\"W1\"]\n",
    "        b1 = parameters[\"b1\"]\n",
    "        W2 = parameters[\"W2\"]\n",
    "        b2 = parameters[\"b2\"]\n",
    "        \n",
    "        # Print the cost every 100 iterations\n",
    "        if print_cost and i % 100 == 0 or i == num_iterations - 1:\n",
    "            print(\"Cost after iteration {}: {}\".format(i, np.squeeze(cost)))\n",
    "        if i % 100 == 0 or i == num_iterations:\n",
    "            costs.append(cost)\n",
    "\n",
    "    return parameters, costs\n",
    "\n",
    "def plot_costs(costs, learning_rate=0.0075):\n",
    "    plt.plot(np.squeeze(costs))\n",
    "    plt.ylabel('cost')\n",
    "    plt.xlabel('iterations (per hundreds)')\n",
    "    plt.title(\"Learning rate =\" + str(learning_rate))\n",
    "    plt.show()"
   ]
  },
  {
   "cell_type": "code",
   "execution_count": 14,
   "metadata": {
    "deletable": false,
    "editable": false,
    "nbgrader": {
     "cell_type": "code",
     "checksum": "c4efa978eb920cd5de40eccf4c40c6e8",
     "grade": true,
     "grade_id": "cell-7599b81fb37ae26a",
     "locked": true,
     "points": 10,
     "schema_version": 3,
     "solution": false,
     "task": false
    }
   },
   "outputs": [
    {
     "output_type": "stream",
     "name": "stdout",
     "text": [
      "Cost after iteration 1: 0.6926114346158595\nCost after first iteration: 0.693049735659989\nCost after iteration 1: 0.6915746967050506\nCost after iteration 1: 0.6915746967050506\nCost after iteration 1: 0.6915746967050506\n\u001b[92m All tests passed.\n"
     ]
    }
   ],
   "source": [
    "parameters, costs = two_layer_model(train_x, train_y, layers_dims = (n_x, n_h, n_y), num_iterations = 2, print_cost=False)\n",
    "\n",
    "print(\"Cost after first iteration: \" + str(costs[0]))\n",
    "\n",
    "two_layer_model_test(two_layer_model)"
   ]
  },
  {
   "cell_type": "markdown",
   "metadata": {},
   "source": [
    "**Expected output:**\n",
    "\n",
    "```\n",
    "cost after iteration 1 must be around 0.69\n",
    "```"
   ]
  },
  {
   "cell_type": "markdown",
   "metadata": {},
   "source": [
    "<a name='4-1'></a>\n",
    "### 4.1 - Train the model \n",
    "\n",
    "If your code passed the previous cell, run the cell below to train your parameters. \n",
    "\n",
    "- The cost should decrease on every iteration. \n",
    "\n",
    "- It may take up to 5 minutes to run 2500 iterations. "
   ]
  },
  {
   "cell_type": "code",
   "execution_count": 15,
   "metadata": {},
   "outputs": [
    {
     "output_type": "stream",
     "name": "stdout",
     "text": [
      "Cost after iteration 0: 0.693049735659989\n",
      "Cost after iteration 100: 0.6464320953428849\n",
      "Cost after iteration 200: 0.6325140647912678\n",
      "Cost after iteration 300: 0.6015024920354665\n",
      "Cost after iteration 400: 0.5601966311605748\n",
      "Cost after iteration 500: 0.5158304772764731\n",
      "Cost after iteration 600: 0.4754901313943325\n",
      "Cost after iteration 700: 0.4339163151225749\n",
      "Cost after iteration 800: 0.4007977536203888\n",
      "Cost after iteration 900: 0.3580705011323798\n",
      "Cost after iteration 1000: 0.33942815383664127\n",
      "Cost after iteration 1100: 0.3052753636196264\n",
      "Cost after iteration 1200: 0.27491377282130164\n",
      "Cost after iteration 1300: 0.24681768210614863\n",
      "Cost after iteration 1400: 0.19850735037466086\n",
      "Cost after iteration 1500: 0.1744831811255662\n",
      "Cost after iteration 1600: 0.17080762978096467\n",
      "Cost after iteration 1700: 0.11306524562164727\n",
      "Cost after iteration 1800: 0.09629426845937152\n",
      "Cost after iteration 1900: 0.08342617959726865\n",
      "Cost after iteration 2000: 0.07439078704319083\n",
      "Cost after iteration 2100: 0.06630748132267934\n",
      "Cost after iteration 2200: 0.059193295010381716\n",
      "Cost after iteration 2300: 0.05336140348560557\n",
      "Cost after iteration 2400: 0.04855478562877019\n",
      "Cost after iteration 2499: 0.04421498215868956\n"
     ]
    },
    {
     "output_type": "display_data",
     "data": {
      "text/plain": "<Figure size 360x288 with 1 Axes>",
      "image/svg+xml": "<?xml version=\"1.0\" encoding=\"utf-8\" standalone=\"no\"?>\r\n<!DOCTYPE svg PUBLIC \"-//W3C//DTD SVG 1.1//EN\"\r\n  \"http://www.w3.org/Graphics/SVG/1.1/DTD/svg11.dtd\">\r\n<!-- Created with matplotlib (https://matplotlib.org/) -->\r\n<svg height=\"277.314375pt\" version=\"1.1\" viewBox=\"0 0 334.230114 277.314375\" width=\"334.230114pt\" xmlns=\"http://www.w3.org/2000/svg\" xmlns:xlink=\"http://www.w3.org/1999/xlink\">\r\n <defs>\r\n  <style type=\"text/css\">\r\n*{stroke-linecap:butt;stroke-linejoin:round;}\r\n  </style>\r\n </defs>\r\n <g id=\"figure_1\">\r\n  <g id=\"patch_1\">\r\n   <path d=\"M 0 277.314375 \r\nL 334.230114 277.314375 \r\nL 334.230114 0 \r\nL 0 0 \r\nz\r\n\" style=\"fill:none;\"/>\r\n  </g>\r\n  <g id=\"axes_1\">\r\n   <g id=\"patch_2\">\r\n    <path d=\"M 43.78125 239.758125 \r\nL 322.78125 239.758125 \r\nL 322.78125 22.318125 \r\nL 43.78125 22.318125 \r\nz\r\n\" style=\"fill:#ffffff;\"/>\r\n   </g>\r\n   <g id=\"matplotlib.axis_1\">\r\n    <g id=\"xtick_1\">\r\n     <g id=\"line2d_1\">\r\n      <defs>\r\n       <path d=\"M 0 0 \r\nL 0 3.5 \r\n\" id=\"m31d733c439\" style=\"stroke:#000000;stroke-width:0.8;\"/>\r\n      </defs>\r\n      <g>\r\n       <use style=\"stroke:#000000;stroke-width:0.8;\" x=\"56.463068\" xlink:href=\"#m31d733c439\" y=\"239.758125\"/>\r\n      </g>\r\n     </g>\r\n     <g id=\"text_1\">\r\n      <!-- 0 -->\r\n      <defs>\r\n       <path d=\"M 31.78125 66.40625 \r\nQ 24.171875 66.40625 20.328125 58.90625 \r\nQ 16.5 51.421875 16.5 36.375 \r\nQ 16.5 21.390625 20.328125 13.890625 \r\nQ 24.171875 6.390625 31.78125 6.390625 \r\nQ 39.453125 6.390625 43.28125 13.890625 \r\nQ 47.125 21.390625 47.125 36.375 \r\nQ 47.125 51.421875 43.28125 58.90625 \r\nQ 39.453125 66.40625 31.78125 66.40625 \r\nz\r\nM 31.78125 74.21875 \r\nQ 44.046875 74.21875 50.515625 64.515625 \r\nQ 56.984375 54.828125 56.984375 36.375 \r\nQ 56.984375 17.96875 50.515625 8.265625 \r\nQ 44.046875 -1.421875 31.78125 -1.421875 \r\nQ 19.53125 -1.421875 13.0625 8.265625 \r\nQ 6.59375 17.96875 6.59375 36.375 \r\nQ 6.59375 54.828125 13.0625 64.515625 \r\nQ 19.53125 74.21875 31.78125 74.21875 \r\nz\r\n\" id=\"DejaVuSans-48\"/>\r\n      </defs>\r\n      <g transform=\"translate(53.281818 254.356562)scale(0.1 -0.1)\">\r\n       <use xlink:href=\"#DejaVuSans-48\"/>\r\n      </g>\r\n     </g>\r\n    </g>\r\n    <g id=\"xtick_2\">\r\n     <g id=\"line2d_2\">\r\n      <g>\r\n       <use style=\"stroke:#000000;stroke-width:0.8;\" x=\"109.303977\" xlink:href=\"#m31d733c439\" y=\"239.758125\"/>\r\n      </g>\r\n     </g>\r\n     <g id=\"text_2\">\r\n      <!-- 5 -->\r\n      <defs>\r\n       <path d=\"M 10.796875 72.90625 \r\nL 49.515625 72.90625 \r\nL 49.515625 64.59375 \r\nL 19.828125 64.59375 \r\nL 19.828125 46.734375 \r\nQ 21.96875 47.46875 24.109375 47.828125 \r\nQ 26.265625 48.1875 28.421875 48.1875 \r\nQ 40.625 48.1875 47.75 41.5 \r\nQ 54.890625 34.8125 54.890625 23.390625 \r\nQ 54.890625 11.625 47.5625 5.09375 \r\nQ 40.234375 -1.421875 26.90625 -1.421875 \r\nQ 22.3125 -1.421875 17.546875 -0.640625 \r\nQ 12.796875 0.140625 7.71875 1.703125 \r\nL 7.71875 11.625 \r\nQ 12.109375 9.234375 16.796875 8.0625 \r\nQ 21.484375 6.890625 26.703125 6.890625 \r\nQ 35.15625 6.890625 40.078125 11.328125 \r\nQ 45.015625 15.765625 45.015625 23.390625 \r\nQ 45.015625 31 40.078125 35.4375 \r\nQ 35.15625 39.890625 26.703125 39.890625 \r\nQ 22.75 39.890625 18.8125 39.015625 \r\nQ 14.890625 38.140625 10.796875 36.28125 \r\nz\r\n\" id=\"DejaVuSans-53\"/>\r\n      </defs>\r\n      <g transform=\"translate(106.122727 254.356562)scale(0.1 -0.1)\">\r\n       <use xlink:href=\"#DejaVuSans-53\"/>\r\n      </g>\r\n     </g>\r\n    </g>\r\n    <g id=\"xtick_3\">\r\n     <g id=\"line2d_3\">\r\n      <g>\r\n       <use style=\"stroke:#000000;stroke-width:0.8;\" x=\"162.144886\" xlink:href=\"#m31d733c439\" y=\"239.758125\"/>\r\n      </g>\r\n     </g>\r\n     <g id=\"text_3\">\r\n      <!-- 10 -->\r\n      <defs>\r\n       <path d=\"M 12.40625 8.296875 \r\nL 28.515625 8.296875 \r\nL 28.515625 63.921875 \r\nL 10.984375 60.40625 \r\nL 10.984375 69.390625 \r\nL 28.421875 72.90625 \r\nL 38.28125 72.90625 \r\nL 38.28125 8.296875 \r\nL 54.390625 8.296875 \r\nL 54.390625 0 \r\nL 12.40625 0 \r\nz\r\n\" id=\"DejaVuSans-49\"/>\r\n      </defs>\r\n      <g transform=\"translate(155.782386 254.356562)scale(0.1 -0.1)\">\r\n       <use xlink:href=\"#DejaVuSans-49\"/>\r\n       <use x=\"63.623047\" xlink:href=\"#DejaVuSans-48\"/>\r\n      </g>\r\n     </g>\r\n    </g>\r\n    <g id=\"xtick_4\">\r\n     <g id=\"line2d_4\">\r\n      <g>\r\n       <use style=\"stroke:#000000;stroke-width:0.8;\" x=\"214.985795\" xlink:href=\"#m31d733c439\" y=\"239.758125\"/>\r\n      </g>\r\n     </g>\r\n     <g id=\"text_4\">\r\n      <!-- 15 -->\r\n      <g transform=\"translate(208.623295 254.356562)scale(0.1 -0.1)\">\r\n       <use xlink:href=\"#DejaVuSans-49\"/>\r\n       <use x=\"63.623047\" xlink:href=\"#DejaVuSans-53\"/>\r\n      </g>\r\n     </g>\r\n    </g>\r\n    <g id=\"xtick_5\">\r\n     <g id=\"line2d_5\">\r\n      <g>\r\n       <use style=\"stroke:#000000;stroke-width:0.8;\" x=\"267.826705\" xlink:href=\"#m31d733c439\" y=\"239.758125\"/>\r\n      </g>\r\n     </g>\r\n     <g id=\"text_5\">\r\n      <!-- 20 -->\r\n      <defs>\r\n       <path d=\"M 19.1875 8.296875 \r\nL 53.609375 8.296875 \r\nL 53.609375 0 \r\nL 7.328125 0 \r\nL 7.328125 8.296875 \r\nQ 12.9375 14.109375 22.625 23.890625 \r\nQ 32.328125 33.6875 34.8125 36.53125 \r\nQ 39.546875 41.84375 41.421875 45.53125 \r\nQ 43.3125 49.21875 43.3125 52.78125 \r\nQ 43.3125 58.59375 39.234375 62.25 \r\nQ 35.15625 65.921875 28.609375 65.921875 \r\nQ 23.96875 65.921875 18.8125 64.3125 \r\nQ 13.671875 62.703125 7.8125 59.421875 \r\nL 7.8125 69.390625 \r\nQ 13.765625 71.78125 18.9375 73 \r\nQ 24.125 74.21875 28.421875 74.21875 \r\nQ 39.75 74.21875 46.484375 68.546875 \r\nQ 53.21875 62.890625 53.21875 53.421875 \r\nQ 53.21875 48.921875 51.53125 44.890625 \r\nQ 49.859375 40.875 45.40625 35.40625 \r\nQ 44.1875 33.984375 37.640625 27.21875 \r\nQ 31.109375 20.453125 19.1875 8.296875 \r\nz\r\n\" id=\"DejaVuSans-50\"/>\r\n      </defs>\r\n      <g transform=\"translate(261.464205 254.356562)scale(0.1 -0.1)\">\r\n       <use xlink:href=\"#DejaVuSans-50\"/>\r\n       <use x=\"63.623047\" xlink:href=\"#DejaVuSans-48\"/>\r\n      </g>\r\n     </g>\r\n    </g>\r\n    <g id=\"xtick_6\">\r\n     <g id=\"line2d_6\">\r\n      <g>\r\n       <use style=\"stroke:#000000;stroke-width:0.8;\" x=\"320.667614\" xlink:href=\"#m31d733c439\" y=\"239.758125\"/>\r\n      </g>\r\n     </g>\r\n     <g id=\"text_6\">\r\n      <!-- 25 -->\r\n      <g transform=\"translate(314.305114 254.356562)scale(0.1 -0.1)\">\r\n       <use xlink:href=\"#DejaVuSans-50\"/>\r\n       <use x=\"63.623047\" xlink:href=\"#DejaVuSans-53\"/>\r\n      </g>\r\n     </g>\r\n    </g>\r\n    <g id=\"text_7\">\r\n     <!-- iterations (per hundreds) -->\r\n     <defs>\r\n      <path d=\"M 9.421875 54.6875 \r\nL 18.40625 54.6875 \r\nL 18.40625 0 \r\nL 9.421875 0 \r\nz\r\nM 9.421875 75.984375 \r\nL 18.40625 75.984375 \r\nL 18.40625 64.59375 \r\nL 9.421875 64.59375 \r\nz\r\n\" id=\"DejaVuSans-105\"/>\r\n      <path d=\"M 18.3125 70.21875 \r\nL 18.3125 54.6875 \r\nL 36.8125 54.6875 \r\nL 36.8125 47.703125 \r\nL 18.3125 47.703125 \r\nL 18.3125 18.015625 \r\nQ 18.3125 11.328125 20.140625 9.421875 \r\nQ 21.96875 7.515625 27.59375 7.515625 \r\nL 36.8125 7.515625 \r\nL 36.8125 0 \r\nL 27.59375 0 \r\nQ 17.1875 0 13.234375 3.875 \r\nQ 9.28125 7.765625 9.28125 18.015625 \r\nL 9.28125 47.703125 \r\nL 2.6875 47.703125 \r\nL 2.6875 54.6875 \r\nL 9.28125 54.6875 \r\nL 9.28125 70.21875 \r\nz\r\n\" id=\"DejaVuSans-116\"/>\r\n      <path d=\"M 56.203125 29.59375 \r\nL 56.203125 25.203125 \r\nL 14.890625 25.203125 \r\nQ 15.484375 15.921875 20.484375 11.0625 \r\nQ 25.484375 6.203125 34.421875 6.203125 \r\nQ 39.59375 6.203125 44.453125 7.46875 \r\nQ 49.3125 8.734375 54.109375 11.28125 \r\nL 54.109375 2.78125 \r\nQ 49.265625 0.734375 44.1875 -0.34375 \r\nQ 39.109375 -1.421875 33.890625 -1.421875 \r\nQ 20.796875 -1.421875 13.15625 6.1875 \r\nQ 5.515625 13.8125 5.515625 26.8125 \r\nQ 5.515625 40.234375 12.765625 48.109375 \r\nQ 20.015625 56 32.328125 56 \r\nQ 43.359375 56 49.78125 48.890625 \r\nQ 56.203125 41.796875 56.203125 29.59375 \r\nz\r\nM 47.21875 32.234375 \r\nQ 47.125 39.59375 43.09375 43.984375 \r\nQ 39.0625 48.390625 32.421875 48.390625 \r\nQ 24.90625 48.390625 20.390625 44.140625 \r\nQ 15.875 39.890625 15.1875 32.171875 \r\nz\r\n\" id=\"DejaVuSans-101\"/>\r\n      <path d=\"M 41.109375 46.296875 \r\nQ 39.59375 47.171875 37.8125 47.578125 \r\nQ 36.03125 48 33.890625 48 \r\nQ 26.265625 48 22.1875 43.046875 \r\nQ 18.109375 38.09375 18.109375 28.8125 \r\nL 18.109375 0 \r\nL 9.078125 0 \r\nL 9.078125 54.6875 \r\nL 18.109375 54.6875 \r\nL 18.109375 46.1875 \r\nQ 20.953125 51.171875 25.484375 53.578125 \r\nQ 30.03125 56 36.53125 56 \r\nQ 37.453125 56 38.578125 55.875 \r\nQ 39.703125 55.765625 41.0625 55.515625 \r\nz\r\n\" id=\"DejaVuSans-114\"/>\r\n      <path d=\"M 34.28125 27.484375 \r\nQ 23.390625 27.484375 19.1875 25 \r\nQ 14.984375 22.515625 14.984375 16.5 \r\nQ 14.984375 11.71875 18.140625 8.90625 \r\nQ 21.296875 6.109375 26.703125 6.109375 \r\nQ 34.1875 6.109375 38.703125 11.40625 \r\nQ 43.21875 16.703125 43.21875 25.484375 \r\nL 43.21875 27.484375 \r\nz\r\nM 52.203125 31.203125 \r\nL 52.203125 0 \r\nL 43.21875 0 \r\nL 43.21875 8.296875 \r\nQ 40.140625 3.328125 35.546875 0.953125 \r\nQ 30.953125 -1.421875 24.3125 -1.421875 \r\nQ 15.921875 -1.421875 10.953125 3.296875 \r\nQ 6 8.015625 6 15.921875 \r\nQ 6 25.140625 12.171875 29.828125 \r\nQ 18.359375 34.515625 30.609375 34.515625 \r\nL 43.21875 34.515625 \r\nL 43.21875 35.40625 \r\nQ 43.21875 41.609375 39.140625 45 \r\nQ 35.0625 48.390625 27.6875 48.390625 \r\nQ 23 48.390625 18.546875 47.265625 \r\nQ 14.109375 46.140625 10.015625 43.890625 \r\nL 10.015625 52.203125 \r\nQ 14.9375 54.109375 19.578125 55.046875 \r\nQ 24.21875 56 28.609375 56 \r\nQ 40.484375 56 46.34375 49.84375 \r\nQ 52.203125 43.703125 52.203125 31.203125 \r\nz\r\n\" id=\"DejaVuSans-97\"/>\r\n      <path d=\"M 30.609375 48.390625 \r\nQ 23.390625 48.390625 19.1875 42.75 \r\nQ 14.984375 37.109375 14.984375 27.296875 \r\nQ 14.984375 17.484375 19.15625 11.84375 \r\nQ 23.34375 6.203125 30.609375 6.203125 \r\nQ 37.796875 6.203125 41.984375 11.859375 \r\nQ 46.1875 17.53125 46.1875 27.296875 \r\nQ 46.1875 37.015625 41.984375 42.703125 \r\nQ 37.796875 48.390625 30.609375 48.390625 \r\nz\r\nM 30.609375 56 \r\nQ 42.328125 56 49.015625 48.375 \r\nQ 55.71875 40.765625 55.71875 27.296875 \r\nQ 55.71875 13.875 49.015625 6.21875 \r\nQ 42.328125 -1.421875 30.609375 -1.421875 \r\nQ 18.84375 -1.421875 12.171875 6.21875 \r\nQ 5.515625 13.875 5.515625 27.296875 \r\nQ 5.515625 40.765625 12.171875 48.375 \r\nQ 18.84375 56 30.609375 56 \r\nz\r\n\" id=\"DejaVuSans-111\"/>\r\n      <path d=\"M 54.890625 33.015625 \r\nL 54.890625 0 \r\nL 45.90625 0 \r\nL 45.90625 32.71875 \r\nQ 45.90625 40.484375 42.875 44.328125 \r\nQ 39.84375 48.1875 33.796875 48.1875 \r\nQ 26.515625 48.1875 22.3125 43.546875 \r\nQ 18.109375 38.921875 18.109375 30.90625 \r\nL 18.109375 0 \r\nL 9.078125 0 \r\nL 9.078125 54.6875 \r\nL 18.109375 54.6875 \r\nL 18.109375 46.1875 \r\nQ 21.34375 51.125 25.703125 53.5625 \r\nQ 30.078125 56 35.796875 56 \r\nQ 45.21875 56 50.046875 50.171875 \r\nQ 54.890625 44.34375 54.890625 33.015625 \r\nz\r\n\" id=\"DejaVuSans-110\"/>\r\n      <path d=\"M 44.28125 53.078125 \r\nL 44.28125 44.578125 \r\nQ 40.484375 46.53125 36.375 47.5 \r\nQ 32.28125 48.484375 27.875 48.484375 \r\nQ 21.1875 48.484375 17.84375 46.4375 \r\nQ 14.5 44.390625 14.5 40.28125 \r\nQ 14.5 37.15625 16.890625 35.375 \r\nQ 19.28125 33.59375 26.515625 31.984375 \r\nL 29.59375 31.296875 \r\nQ 39.15625 29.25 43.1875 25.515625 \r\nQ 47.21875 21.78125 47.21875 15.09375 \r\nQ 47.21875 7.46875 41.1875 3.015625 \r\nQ 35.15625 -1.421875 24.609375 -1.421875 \r\nQ 20.21875 -1.421875 15.453125 -0.5625 \r\nQ 10.6875 0.296875 5.421875 2 \r\nL 5.421875 11.28125 \r\nQ 10.40625 8.6875 15.234375 7.390625 \r\nQ 20.0625 6.109375 24.8125 6.109375 \r\nQ 31.15625 6.109375 34.5625 8.28125 \r\nQ 37.984375 10.453125 37.984375 14.40625 \r\nQ 37.984375 18.0625 35.515625 20.015625 \r\nQ 33.0625 21.96875 24.703125 23.78125 \r\nL 21.578125 24.515625 \r\nQ 13.234375 26.265625 9.515625 29.90625 \r\nQ 5.8125 33.546875 5.8125 39.890625 \r\nQ 5.8125 47.609375 11.28125 51.796875 \r\nQ 16.75 56 26.8125 56 \r\nQ 31.78125 56 36.171875 55.265625 \r\nQ 40.578125 54.546875 44.28125 53.078125 \r\nz\r\n\" id=\"DejaVuSans-115\"/>\r\n      <path id=\"DejaVuSans-32\"/>\r\n      <path d=\"M 31 75.875 \r\nQ 24.46875 64.65625 21.28125 53.65625 \r\nQ 18.109375 42.671875 18.109375 31.390625 \r\nQ 18.109375 20.125 21.3125 9.0625 \r\nQ 24.515625 -2 31 -13.1875 \r\nL 23.1875 -13.1875 \r\nQ 15.875 -1.703125 12.234375 9.375 \r\nQ 8.59375 20.453125 8.59375 31.390625 \r\nQ 8.59375 42.28125 12.203125 53.3125 \r\nQ 15.828125 64.359375 23.1875 75.875 \r\nz\r\n\" id=\"DejaVuSans-40\"/>\r\n      <path d=\"M 18.109375 8.203125 \r\nL 18.109375 -20.796875 \r\nL 9.078125 -20.796875 \r\nL 9.078125 54.6875 \r\nL 18.109375 54.6875 \r\nL 18.109375 46.390625 \r\nQ 20.953125 51.265625 25.265625 53.625 \r\nQ 29.59375 56 35.59375 56 \r\nQ 45.5625 56 51.78125 48.09375 \r\nQ 58.015625 40.1875 58.015625 27.296875 \r\nQ 58.015625 14.40625 51.78125 6.484375 \r\nQ 45.5625 -1.421875 35.59375 -1.421875 \r\nQ 29.59375 -1.421875 25.265625 0.953125 \r\nQ 20.953125 3.328125 18.109375 8.203125 \r\nz\r\nM 48.6875 27.296875 \r\nQ 48.6875 37.203125 44.609375 42.84375 \r\nQ 40.53125 48.484375 33.40625 48.484375 \r\nQ 26.265625 48.484375 22.1875 42.84375 \r\nQ 18.109375 37.203125 18.109375 27.296875 \r\nQ 18.109375 17.390625 22.1875 11.75 \r\nQ 26.265625 6.109375 33.40625 6.109375 \r\nQ 40.53125 6.109375 44.609375 11.75 \r\nQ 48.6875 17.390625 48.6875 27.296875 \r\nz\r\n\" id=\"DejaVuSans-112\"/>\r\n      <path d=\"M 54.890625 33.015625 \r\nL 54.890625 0 \r\nL 45.90625 0 \r\nL 45.90625 32.71875 \r\nQ 45.90625 40.484375 42.875 44.328125 \r\nQ 39.84375 48.1875 33.796875 48.1875 \r\nQ 26.515625 48.1875 22.3125 43.546875 \r\nQ 18.109375 38.921875 18.109375 30.90625 \r\nL 18.109375 0 \r\nL 9.078125 0 \r\nL 9.078125 75.984375 \r\nL 18.109375 75.984375 \r\nL 18.109375 46.1875 \r\nQ 21.34375 51.125 25.703125 53.5625 \r\nQ 30.078125 56 35.796875 56 \r\nQ 45.21875 56 50.046875 50.171875 \r\nQ 54.890625 44.34375 54.890625 33.015625 \r\nz\r\n\" id=\"DejaVuSans-104\"/>\r\n      <path d=\"M 8.5 21.578125 \r\nL 8.5 54.6875 \r\nL 17.484375 54.6875 \r\nL 17.484375 21.921875 \r\nQ 17.484375 14.15625 20.5 10.265625 \r\nQ 23.53125 6.390625 29.59375 6.390625 \r\nQ 36.859375 6.390625 41.078125 11.03125 \r\nQ 45.3125 15.671875 45.3125 23.6875 \r\nL 45.3125 54.6875 \r\nL 54.296875 54.6875 \r\nL 54.296875 0 \r\nL 45.3125 0 \r\nL 45.3125 8.40625 \r\nQ 42.046875 3.421875 37.71875 1 \r\nQ 33.40625 -1.421875 27.6875 -1.421875 \r\nQ 18.265625 -1.421875 13.375 4.4375 \r\nQ 8.5 10.296875 8.5 21.578125 \r\nz\r\nM 31.109375 56 \r\nz\r\n\" id=\"DejaVuSans-117\"/>\r\n      <path d=\"M 45.40625 46.390625 \r\nL 45.40625 75.984375 \r\nL 54.390625 75.984375 \r\nL 54.390625 0 \r\nL 45.40625 0 \r\nL 45.40625 8.203125 \r\nQ 42.578125 3.328125 38.25 0.953125 \r\nQ 33.9375 -1.421875 27.875 -1.421875 \r\nQ 17.96875 -1.421875 11.734375 6.484375 \r\nQ 5.515625 14.40625 5.515625 27.296875 \r\nQ 5.515625 40.1875 11.734375 48.09375 \r\nQ 17.96875 56 27.875 56 \r\nQ 33.9375 56 38.25 53.625 \r\nQ 42.578125 51.265625 45.40625 46.390625 \r\nz\r\nM 14.796875 27.296875 \r\nQ 14.796875 17.390625 18.875 11.75 \r\nQ 22.953125 6.109375 30.078125 6.109375 \r\nQ 37.203125 6.109375 41.296875 11.75 \r\nQ 45.40625 17.390625 45.40625 27.296875 \r\nQ 45.40625 37.203125 41.296875 42.84375 \r\nQ 37.203125 48.484375 30.078125 48.484375 \r\nQ 22.953125 48.484375 18.875 42.84375 \r\nQ 14.796875 37.203125 14.796875 27.296875 \r\nz\r\n\" id=\"DejaVuSans-100\"/>\r\n      <path d=\"M 8.015625 75.875 \r\nL 15.828125 75.875 \r\nQ 23.140625 64.359375 26.78125 53.3125 \r\nQ 30.421875 42.28125 30.421875 31.390625 \r\nQ 30.421875 20.453125 26.78125 9.375 \r\nQ 23.140625 -1.703125 15.828125 -13.1875 \r\nL 8.015625 -13.1875 \r\nQ 14.5 -2 17.703125 9.0625 \r\nQ 20.90625 20.125 20.90625 31.390625 \r\nQ 20.90625 42.671875 17.703125 53.65625 \r\nQ 14.5 64.65625 8.015625 75.875 \r\nz\r\n\" id=\"DejaVuSans-41\"/>\r\n     </defs>\r\n     <g transform=\"translate(120.689063 268.034687)scale(0.1 -0.1)\">\r\n      <use xlink:href=\"#DejaVuSans-105\"/>\r\n      <use x=\"27.783203\" xlink:href=\"#DejaVuSans-116\"/>\r\n      <use x=\"66.992188\" xlink:href=\"#DejaVuSans-101\"/>\r\n      <use x=\"128.515625\" xlink:href=\"#DejaVuSans-114\"/>\r\n      <use x=\"169.628906\" xlink:href=\"#DejaVuSans-97\"/>\r\n      <use x=\"230.908203\" xlink:href=\"#DejaVuSans-116\"/>\r\n      <use x=\"270.117188\" xlink:href=\"#DejaVuSans-105\"/>\r\n      <use x=\"297.900391\" xlink:href=\"#DejaVuSans-111\"/>\r\n      <use x=\"359.082031\" xlink:href=\"#DejaVuSans-110\"/>\r\n      <use x=\"422.460938\" xlink:href=\"#DejaVuSans-115\"/>\r\n      <use x=\"474.560547\" xlink:href=\"#DejaVuSans-32\"/>\r\n      <use x=\"506.347656\" xlink:href=\"#DejaVuSans-40\"/>\r\n      <use x=\"545.361328\" xlink:href=\"#DejaVuSans-112\"/>\r\n      <use x=\"608.837891\" xlink:href=\"#DejaVuSans-101\"/>\r\n      <use x=\"670.361328\" xlink:href=\"#DejaVuSans-114\"/>\r\n      <use x=\"711.474609\" xlink:href=\"#DejaVuSans-32\"/>\r\n      <use x=\"743.261719\" xlink:href=\"#DejaVuSans-104\"/>\r\n      <use x=\"806.640625\" xlink:href=\"#DejaVuSans-117\"/>\r\n      <use x=\"870.019531\" xlink:href=\"#DejaVuSans-110\"/>\r\n      <use x=\"933.398438\" xlink:href=\"#DejaVuSans-100\"/>\r\n      <use x=\"996.875\" xlink:href=\"#DejaVuSans-114\"/>\r\n      <use x=\"1035.738281\" xlink:href=\"#DejaVuSans-101\"/>\r\n      <use x=\"1097.261719\" xlink:href=\"#DejaVuSans-100\"/>\r\n      <use x=\"1160.738281\" xlink:href=\"#DejaVuSans-115\"/>\r\n      <use x=\"1212.837891\" xlink:href=\"#DejaVuSans-41\"/>\r\n     </g>\r\n    </g>\r\n   </g>\r\n   <g id=\"matplotlib.axis_2\">\r\n    <g id=\"ytick_1\">\r\n     <g id=\"line2d_7\">\r\n      <defs>\r\n       <path d=\"M 0 0 \r\nL -3.5 0 \r\n\" id=\"md6fc2b6556\" style=\"stroke:#000000;stroke-width:0.8;\"/>\r\n      </defs>\r\n      <g>\r\n       <use style=\"stroke:#000000;stroke-width:0.8;\" x=\"43.78125\" xlink:href=\"#md6fc2b6556\" y=\"214.095752\"/>\r\n      </g>\r\n     </g>\r\n     <g id=\"text_8\">\r\n      <!-- 0.1 -->\r\n      <defs>\r\n       <path d=\"M 10.6875 12.40625 \r\nL 21 12.40625 \r\nL 21 0 \r\nL 10.6875 0 \r\nz\r\n\" id=\"DejaVuSans-46\"/>\r\n      </defs>\r\n      <g transform=\"translate(20.878125 217.894971)scale(0.1 -0.1)\">\r\n       <use xlink:href=\"#DejaVuSans-48\"/>\r\n       <use x=\"63.623047\" xlink:href=\"#DejaVuSans-46\"/>\r\n       <use x=\"95.410156\" xlink:href=\"#DejaVuSans-49\"/>\r\n      </g>\r\n     </g>\r\n    </g>\r\n    <g id=\"ytick_2\">\r\n     <g id=\"line2d_8\">\r\n      <g>\r\n       <use style=\"stroke:#000000;stroke-width:0.8;\" x=\"43.78125\" xlink:href=\"#md6fc2b6556\" y=\"183.424802\"/>\r\n      </g>\r\n     </g>\r\n     <g id=\"text_9\">\r\n      <!-- 0.2 -->\r\n      <g transform=\"translate(20.878125 187.224021)scale(0.1 -0.1)\">\r\n       <use xlink:href=\"#DejaVuSans-48\"/>\r\n       <use x=\"63.623047\" xlink:href=\"#DejaVuSans-46\"/>\r\n       <use x=\"95.410156\" xlink:href=\"#DejaVuSans-50\"/>\r\n      </g>\r\n     </g>\r\n    </g>\r\n    <g id=\"ytick_3\">\r\n     <g id=\"line2d_9\">\r\n      <g>\r\n       <use style=\"stroke:#000000;stroke-width:0.8;\" x=\"43.78125\" xlink:href=\"#md6fc2b6556\" y=\"152.753851\"/>\r\n      </g>\r\n     </g>\r\n     <g id=\"text_10\">\r\n      <!-- 0.3 -->\r\n      <defs>\r\n       <path d=\"M 40.578125 39.3125 \r\nQ 47.65625 37.796875 51.625 33 \r\nQ 55.609375 28.21875 55.609375 21.1875 \r\nQ 55.609375 10.40625 48.1875 4.484375 \r\nQ 40.765625 -1.421875 27.09375 -1.421875 \r\nQ 22.515625 -1.421875 17.65625 -0.515625 \r\nQ 12.796875 0.390625 7.625 2.203125 \r\nL 7.625 11.71875 \r\nQ 11.71875 9.328125 16.59375 8.109375 \r\nQ 21.484375 6.890625 26.8125 6.890625 \r\nQ 36.078125 6.890625 40.9375 10.546875 \r\nQ 45.796875 14.203125 45.796875 21.1875 \r\nQ 45.796875 27.640625 41.28125 31.265625 \r\nQ 36.765625 34.90625 28.71875 34.90625 \r\nL 20.21875 34.90625 \r\nL 20.21875 43.015625 \r\nL 29.109375 43.015625 \r\nQ 36.375 43.015625 40.234375 45.921875 \r\nQ 44.09375 48.828125 44.09375 54.296875 \r\nQ 44.09375 59.90625 40.109375 62.90625 \r\nQ 36.140625 65.921875 28.71875 65.921875 \r\nQ 24.65625 65.921875 20.015625 65.03125 \r\nQ 15.375 64.15625 9.8125 62.3125 \r\nL 9.8125 71.09375 \r\nQ 15.4375 72.65625 20.34375 73.4375 \r\nQ 25.25 74.21875 29.59375 74.21875 \r\nQ 40.828125 74.21875 47.359375 69.109375 \r\nQ 53.90625 64.015625 53.90625 55.328125 \r\nQ 53.90625 49.265625 50.4375 45.09375 \r\nQ 46.96875 40.921875 40.578125 39.3125 \r\nz\r\n\" id=\"DejaVuSans-51\"/>\r\n      </defs>\r\n      <g transform=\"translate(20.878125 156.55307)scale(0.1 -0.1)\">\r\n       <use xlink:href=\"#DejaVuSans-48\"/>\r\n       <use x=\"63.623047\" xlink:href=\"#DejaVuSans-46\"/>\r\n       <use x=\"95.410156\" xlink:href=\"#DejaVuSans-51\"/>\r\n      </g>\r\n     </g>\r\n    </g>\r\n    <g id=\"ytick_4\">\r\n     <g id=\"line2d_10\">\r\n      <g>\r\n       <use style=\"stroke:#000000;stroke-width:0.8;\" x=\"43.78125\" xlink:href=\"#md6fc2b6556\" y=\"122.082901\"/>\r\n      </g>\r\n     </g>\r\n     <g id=\"text_11\">\r\n      <!-- 0.4 -->\r\n      <defs>\r\n       <path d=\"M 37.796875 64.3125 \r\nL 12.890625 25.390625 \r\nL 37.796875 25.390625 \r\nz\r\nM 35.203125 72.90625 \r\nL 47.609375 72.90625 \r\nL 47.609375 25.390625 \r\nL 58.015625 25.390625 \r\nL 58.015625 17.1875 \r\nL 47.609375 17.1875 \r\nL 47.609375 0 \r\nL 37.796875 0 \r\nL 37.796875 17.1875 \r\nL 4.890625 17.1875 \r\nL 4.890625 26.703125 \r\nz\r\n\" id=\"DejaVuSans-52\"/>\r\n      </defs>\r\n      <g transform=\"translate(20.878125 125.88212)scale(0.1 -0.1)\">\r\n       <use xlink:href=\"#DejaVuSans-48\"/>\r\n       <use x=\"63.623047\" xlink:href=\"#DejaVuSans-46\"/>\r\n       <use x=\"95.410156\" xlink:href=\"#DejaVuSans-52\"/>\r\n      </g>\r\n     </g>\r\n    </g>\r\n    <g id=\"ytick_5\">\r\n     <g id=\"line2d_11\">\r\n      <g>\r\n       <use style=\"stroke:#000000;stroke-width:0.8;\" x=\"43.78125\" xlink:href=\"#md6fc2b6556\" y=\"91.41195\"/>\r\n      </g>\r\n     </g>\r\n     <g id=\"text_12\">\r\n      <!-- 0.5 -->\r\n      <g transform=\"translate(20.878125 95.211169)scale(0.1 -0.1)\">\r\n       <use xlink:href=\"#DejaVuSans-48\"/>\r\n       <use x=\"63.623047\" xlink:href=\"#DejaVuSans-46\"/>\r\n       <use x=\"95.410156\" xlink:href=\"#DejaVuSans-53\"/>\r\n      </g>\r\n     </g>\r\n    </g>\r\n    <g id=\"ytick_6\">\r\n     <g id=\"line2d_12\">\r\n      <g>\r\n       <use style=\"stroke:#000000;stroke-width:0.8;\" x=\"43.78125\" xlink:href=\"#md6fc2b6556\" y=\"60.741\"/>\r\n      </g>\r\n     </g>\r\n     <g id=\"text_13\">\r\n      <!-- 0.6 -->\r\n      <defs>\r\n       <path d=\"M 33.015625 40.375 \r\nQ 26.375 40.375 22.484375 35.828125 \r\nQ 18.609375 31.296875 18.609375 23.390625 \r\nQ 18.609375 15.53125 22.484375 10.953125 \r\nQ 26.375 6.390625 33.015625 6.390625 \r\nQ 39.65625 6.390625 43.53125 10.953125 \r\nQ 47.40625 15.53125 47.40625 23.390625 \r\nQ 47.40625 31.296875 43.53125 35.828125 \r\nQ 39.65625 40.375 33.015625 40.375 \r\nz\r\nM 52.59375 71.296875 \r\nL 52.59375 62.3125 \r\nQ 48.875 64.0625 45.09375 64.984375 \r\nQ 41.3125 65.921875 37.59375 65.921875 \r\nQ 27.828125 65.921875 22.671875 59.328125 \r\nQ 17.53125 52.734375 16.796875 39.40625 \r\nQ 19.671875 43.65625 24.015625 45.921875 \r\nQ 28.375 48.1875 33.59375 48.1875 \r\nQ 44.578125 48.1875 50.953125 41.515625 \r\nQ 57.328125 34.859375 57.328125 23.390625 \r\nQ 57.328125 12.15625 50.6875 5.359375 \r\nQ 44.046875 -1.421875 33.015625 -1.421875 \r\nQ 20.359375 -1.421875 13.671875 8.265625 \r\nQ 6.984375 17.96875 6.984375 36.375 \r\nQ 6.984375 53.65625 15.1875 63.9375 \r\nQ 23.390625 74.21875 37.203125 74.21875 \r\nQ 40.921875 74.21875 44.703125 73.484375 \r\nQ 48.484375 72.75 52.59375 71.296875 \r\nz\r\n\" id=\"DejaVuSans-54\"/>\r\n      </defs>\r\n      <g transform=\"translate(20.878125 64.540219)scale(0.1 -0.1)\">\r\n       <use xlink:href=\"#DejaVuSans-48\"/>\r\n       <use x=\"63.623047\" xlink:href=\"#DejaVuSans-46\"/>\r\n       <use x=\"95.410156\" xlink:href=\"#DejaVuSans-54\"/>\r\n      </g>\r\n     </g>\r\n    </g>\r\n    <g id=\"ytick_7\">\r\n     <g id=\"line2d_13\">\r\n      <g>\r\n       <use style=\"stroke:#000000;stroke-width:0.8;\" x=\"43.78125\" xlink:href=\"#md6fc2b6556\" y=\"30.070049\"/>\r\n      </g>\r\n     </g>\r\n     <g id=\"text_14\">\r\n      <!-- 0.7 -->\r\n      <defs>\r\n       <path d=\"M 8.203125 72.90625 \r\nL 55.078125 72.90625 \r\nL 55.078125 68.703125 \r\nL 28.609375 0 \r\nL 18.3125 0 \r\nL 43.21875 64.59375 \r\nL 8.203125 64.59375 \r\nz\r\n\" id=\"DejaVuSans-55\"/>\r\n      </defs>\r\n      <g transform=\"translate(20.878125 33.869268)scale(0.1 -0.1)\">\r\n       <use xlink:href=\"#DejaVuSans-48\"/>\r\n       <use x=\"63.623047\" xlink:href=\"#DejaVuSans-46\"/>\r\n       <use x=\"95.410156\" xlink:href=\"#DejaVuSans-55\"/>\r\n      </g>\r\n     </g>\r\n    </g>\r\n    <g id=\"text_15\">\r\n     <!-- cost -->\r\n     <defs>\r\n      <path d=\"M 48.78125 52.59375 \r\nL 48.78125 44.1875 \r\nQ 44.96875 46.296875 41.140625 47.34375 \r\nQ 37.3125 48.390625 33.40625 48.390625 \r\nQ 24.65625 48.390625 19.8125 42.84375 \r\nQ 14.984375 37.3125 14.984375 27.296875 \r\nQ 14.984375 17.28125 19.8125 11.734375 \r\nQ 24.65625 6.203125 33.40625 6.203125 \r\nQ 37.3125 6.203125 41.140625 7.25 \r\nQ 44.96875 8.296875 48.78125 10.40625 \r\nL 48.78125 2.09375 \r\nQ 45.015625 0.34375 40.984375 -0.53125 \r\nQ 36.96875 -1.421875 32.421875 -1.421875 \r\nQ 20.0625 -1.421875 12.78125 6.34375 \r\nQ 5.515625 14.109375 5.515625 27.296875 \r\nQ 5.515625 40.671875 12.859375 48.328125 \r\nQ 20.21875 56 33.015625 56 \r\nQ 37.15625 56 41.109375 55.140625 \r\nQ 45.0625 54.296875 48.78125 52.59375 \r\nz\r\n\" id=\"DejaVuSans-99\"/>\r\n     </defs>\r\n     <g transform=\"translate(14.798438 141.411562)rotate(-90)scale(0.1 -0.1)\">\r\n      <use xlink:href=\"#DejaVuSans-99\"/>\r\n      <use x=\"54.980469\" xlink:href=\"#DejaVuSans-111\"/>\r\n      <use x=\"116.162109\" xlink:href=\"#DejaVuSans-115\"/>\r\n      <use x=\"168.261719\" xlink:href=\"#DejaVuSans-116\"/>\r\n     </g>\r\n    </g>\r\n   </g>\r\n   <g id=\"line2d_14\">\r\n    <path clip-path=\"url(#p8cfe540cdb)\" d=\"M 56.463068 32.201761 \r\nL 67.03125 46.499835 \r\nL 77.599432 50.768627 \r\nL 88.167614 60.280171 \r\nL 98.735795 72.949071 \r\nL 109.303977 86.556592 \r\nL 119.872159 98.92936 \r\nL 130.440341 111.680445 \r\nL 141.008523 121.838222 \r\nL 151.576705 134.943077 \r\nL 162.144886 140.660862 \r\nL 172.713068 151.135847 \r\nL 183.28125 160.448036 \r\nL 193.849432 169.065374 \r\nL 204.417614 183.882612 \r\nL 214.985795 191.251053 \r\nL 225.553977 192.378379 \r\nL 236.122159 210.088517 \r\nL 246.690341 215.232335 \r\nL 257.258523 219.179101 \r\nL 267.826705 221.950341 \r\nL 278.394886 224.429568 \r\nL 288.963068 226.611557 \r\nL 299.53125 228.400253 \r\nL 310.099432 229.874489 \r\n\" style=\"fill:none;stroke:#1f77b4;stroke-linecap:square;stroke-width:1.5;\"/>\r\n   </g>\r\n   <g id=\"patch_3\">\r\n    <path d=\"M 43.78125 239.758125 \r\nL 43.78125 22.318125 \r\n\" style=\"fill:none;stroke:#000000;stroke-linecap:square;stroke-linejoin:miter;stroke-width:0.8;\"/>\r\n   </g>\r\n   <g id=\"patch_4\">\r\n    <path d=\"M 322.78125 239.758125 \r\nL 322.78125 22.318125 \r\n\" style=\"fill:none;stroke:#000000;stroke-linecap:square;stroke-linejoin:miter;stroke-width:0.8;\"/>\r\n   </g>\r\n   <g id=\"patch_5\">\r\n    <path d=\"M 43.78125 239.758125 \r\nL 322.78125 239.758125 \r\n\" style=\"fill:none;stroke:#000000;stroke-linecap:square;stroke-linejoin:miter;stroke-width:0.8;\"/>\r\n   </g>\r\n   <g id=\"patch_6\">\r\n    <path d=\"M 43.78125 22.318125 \r\nL 322.78125 22.318125 \r\n\" style=\"fill:none;stroke:#000000;stroke-linecap:square;stroke-linejoin:miter;stroke-width:0.8;\"/>\r\n   </g>\r\n   <g id=\"text_16\">\r\n    <!-- Learning rate =0.0075 -->\r\n    <defs>\r\n     <path d=\"M 9.8125 72.90625 \r\nL 19.671875 72.90625 \r\nL 19.671875 8.296875 \r\nL 55.171875 8.296875 \r\nL 55.171875 0 \r\nL 9.8125 0 \r\nz\r\n\" id=\"DejaVuSans-76\"/>\r\n     <path d=\"M 45.40625 27.984375 \r\nQ 45.40625 37.75 41.375 43.109375 \r\nQ 37.359375 48.484375 30.078125 48.484375 \r\nQ 22.859375 48.484375 18.828125 43.109375 \r\nQ 14.796875 37.75 14.796875 27.984375 \r\nQ 14.796875 18.265625 18.828125 12.890625 \r\nQ 22.859375 7.515625 30.078125 7.515625 \r\nQ 37.359375 7.515625 41.375 12.890625 \r\nQ 45.40625 18.265625 45.40625 27.984375 \r\nz\r\nM 54.390625 6.78125 \r\nQ 54.390625 -7.171875 48.1875 -13.984375 \r\nQ 42 -20.796875 29.203125 -20.796875 \r\nQ 24.46875 -20.796875 20.265625 -20.09375 \r\nQ 16.0625 -19.390625 12.109375 -17.921875 \r\nL 12.109375 -9.1875 \r\nQ 16.0625 -11.328125 19.921875 -12.34375 \r\nQ 23.78125 -13.375 27.78125 -13.375 \r\nQ 36.625 -13.375 41.015625 -8.765625 \r\nQ 45.40625 -4.15625 45.40625 5.171875 \r\nL 45.40625 9.625 \r\nQ 42.625 4.78125 38.28125 2.390625 \r\nQ 33.9375 0 27.875 0 \r\nQ 17.828125 0 11.671875 7.65625 \r\nQ 5.515625 15.328125 5.515625 27.984375 \r\nQ 5.515625 40.671875 11.671875 48.328125 \r\nQ 17.828125 56 27.875 56 \r\nQ 33.9375 56 38.28125 53.609375 \r\nQ 42.625 51.21875 45.40625 46.390625 \r\nL 45.40625 54.6875 \r\nL 54.390625 54.6875 \r\nz\r\n\" id=\"DejaVuSans-103\"/>\r\n     <path d=\"M 10.59375 45.40625 \r\nL 73.1875 45.40625 \r\nL 73.1875 37.203125 \r\nL 10.59375 37.203125 \r\nz\r\nM 10.59375 25.484375 \r\nL 73.1875 25.484375 \r\nL 73.1875 17.1875 \r\nL 10.59375 17.1875 \r\nz\r\n\" id=\"DejaVuSans-61\"/>\r\n    </defs>\r\n    <g transform=\"translate(115.208438 16.318125)scale(0.12 -0.12)\">\r\n     <use xlink:href=\"#DejaVuSans-76\"/>\r\n     <use x=\"53.962891\" xlink:href=\"#DejaVuSans-101\"/>\r\n     <use x=\"115.486328\" xlink:href=\"#DejaVuSans-97\"/>\r\n     <use x=\"176.765625\" xlink:href=\"#DejaVuSans-114\"/>\r\n     <use x=\"216.128906\" xlink:href=\"#DejaVuSans-110\"/>\r\n     <use x=\"279.507812\" xlink:href=\"#DejaVuSans-105\"/>\r\n     <use x=\"307.291016\" xlink:href=\"#DejaVuSans-110\"/>\r\n     <use x=\"370.669922\" xlink:href=\"#DejaVuSans-103\"/>\r\n     <use x=\"434.146484\" xlink:href=\"#DejaVuSans-32\"/>\r\n     <use x=\"465.933594\" xlink:href=\"#DejaVuSans-114\"/>\r\n     <use x=\"507.046875\" xlink:href=\"#DejaVuSans-97\"/>\r\n     <use x=\"568.326172\" xlink:href=\"#DejaVuSans-116\"/>\r\n     <use x=\"607.535156\" xlink:href=\"#DejaVuSans-101\"/>\r\n     <use x=\"669.058594\" xlink:href=\"#DejaVuSans-32\"/>\r\n     <use x=\"700.845703\" xlink:href=\"#DejaVuSans-61\"/>\r\n     <use x=\"784.634766\" xlink:href=\"#DejaVuSans-48\"/>\r\n     <use x=\"848.257812\" xlink:href=\"#DejaVuSans-46\"/>\r\n     <use x=\"880.044922\" xlink:href=\"#DejaVuSans-48\"/>\r\n     <use x=\"943.667969\" xlink:href=\"#DejaVuSans-48\"/>\r\n     <use x=\"1007.291016\" xlink:href=\"#DejaVuSans-55\"/>\r\n     <use x=\"1070.914062\" xlink:href=\"#DejaVuSans-53\"/>\r\n    </g>\r\n   </g>\r\n  </g>\r\n </g>\r\n <defs>\r\n  <clipPath id=\"p8cfe540cdb\">\r\n   <rect height=\"217.44\" width=\"279\" x=\"43.78125\" y=\"22.318125\"/>\r\n  </clipPath>\r\n </defs>\r\n</svg>\r\n",
      "image/png": "[encoded data removed]"
     },
     "metadata": {
      "needs_background": "light"
     }
    }
   ],
   "source": [
    "parameters, costs = two_layer_model(train_x, train_y, layers_dims = (n_x, n_h, n_y), num_iterations = 2500, print_cost=True)\n",
    "plot_costs(costs, learning_rate)"
   ]
  },
  {
   "cell_type": "markdown",
   "metadata": {},
   "source": [
    "**Expected Output**:\n",
    "<table> \n",
    "    <tr>\n",
    "        <td> <b>Cost after iteration 0</b></td>\n",
    "        <td> 0.6930497356599888 </td>\n",
    "    </tr>\n",
    "    <tr>\n",
    "        <td> <b>Cost after iteration 100</b></td>\n",
    "        <td> 0.6464320953428849 </td>\n",
    "    </tr>\n",
    "    <tr>\n",
    "        <td> <b>...</b></td>\n",
    "        <td> ... </td>\n",
    "    </tr>\n",
    "    <tr>\n",
    "        <td> <b>Cost after iteration 2499</b></td>\n",
    "        <td> 0.04421498215868956 </td>\n",
    "    </tr>\n",
    "</table>"
   ]
  },
  {
   "cell_type": "markdown",
   "metadata": {},
   "source": [
    "**Nice!** You successfully trained the model. Good thing you built a vectorized implementation! Otherwise it might have taken 10 times longer to train this.\n",
    "\n",
    "Now, you can use the trained parameters to classify images from the dataset. To see your predictions on the training and test sets, run the cell below."
   ]
  },
  {
   "cell_type": "code",
   "execution_count": 16,
   "metadata": {},
   "outputs": [
    {
     "output_type": "stream",
     "name": "stdout",
     "text": [
      "Accuracy: 0.9999999999999998\n"
     ]
    }
   ],
   "source": [
    "predictions_train = predict(train_x, train_y, parameters)"
   ]
  },
  {
   "cell_type": "markdown",
   "metadata": {},
   "source": [
    "**Expected Output**:\n",
    "<table> \n",
    "    <tr>\n",
    "        <td> <b>Accuracy</b></td>\n",
    "        <td> 0.9999999999999998 </td>\n",
    "    </tr>\n",
    "</table>"
   ]
  },
  {
   "cell_type": "code",
   "execution_count": 17,
   "metadata": {},
   "outputs": [
    {
     "output_type": "stream",
     "name": "stdout",
     "text": [
      "Accuracy: 0.72\n"
     ]
    }
   ],
   "source": [
    "predictions_test = predict(test_x, test_y, parameters)"
   ]
  },
  {
   "cell_type": "markdown",
   "metadata": {},
   "source": [
    "**Expected Output**:\n",
    "\n",
    "<table> \n",
    "    <tr>\n",
    "        <td> <b>Accuracy</b></td>\n",
    "        <td> 0.72 </td>\n",
    "    </tr>\n",
    "</table>"
   ]
  },
  {
   "cell_type": "markdown",
   "metadata": {},
   "source": [
    "### Congratulations! It seems that your 2-layer neural network has better performance (72%) than the logistic regression implementation (70%, assignment week 2). Let's see if you can do even better with an $L$-layer model.\n",
    "\n",
    "**Note**: You may notice that running the model on fewer iterations (say 1500) gives better accuracy on the test set. This is called \"early stopping\" and you'll hear more about it in the next course. Early stopping is a way to prevent overfitting. "
   ]
  },
  {
   "cell_type": "markdown",
   "metadata": {},
   "source": [
    "<a name='5'></a>\n",
    "## 5 - L-layer Neural Network\n",
    "\n",
    "<a name='ex-2'></a>\n",
    "### Exercise 2 - L_layer_model \n",
    "\n",
    "Use the helper functions you implemented previously to build an $L$-layer neural network with the following structure: *[LINEAR -> RELU]$\\times$(L-1) -> LINEAR -> SIGMOID*. The functions and their inputs are:\n",
    "```python\n",
    "def initialize_parameters_deep(layers_dims):\n",
    "    ...\n",
    "    return parameters \n",
    "def L_model_forward(X, parameters):\n",
    "    ...\n",
    "    return AL, caches\n",
    "def compute_cost(AL, Y):\n",
    "    ...\n",
    "    return cost\n",
    "def L_model_backward(AL, Y, caches):\n",
    "    ...\n",
    "    return grads\n",
    "def update_parameters(parameters, grads, learning_rate):\n",
    "    ...\n",
    "    return parameters\n",
    "```"
   ]
  },
  {
   "cell_type": "code",
   "execution_count": 18,
   "metadata": {},
   "outputs": [],
   "source": [
    "### CONSTANTS ###\n",
    "layers_dims = [12288, 20, 7, 5, 1] #  4-layer model"
   ]
  },
  {
   "cell_type": "code",
   "execution_count": null,
   "metadata": {
    "deletable": false,
    "nbgrader": {
     "cell_type": "code",
     "checksum": "bd68f4ac31e8b22bbf46fab0a7e0e28b",
     "grade": false,
     "grade_id": "cell-dd8ea98cb7dac175",
     "locked": false,
     "schema_version": 3,
     "solution": true,
     "task": false
    }
   },
   "outputs": [],
   "source": [
    "# GRADED FUNCTION: L_layer_model\n",
    "\n",
    "def L_layer_model(X, Y, layers_dims, learning_rate = 0.0075, num_iterations = 3000, print_cost=False):\n",
    "    \"\"\"\n",
    "    Implements a L-layer neural network: [LINEAR->RELU]*(L-1)->LINEAR->SIGMOID.\n",
    "    \n",
    "    Arguments:\n",
    "    X -- data, numpy array of shape (num_px * num_px * 3, number of examples)\n",
    "    Y -- true \"label\" vector (containing 0 if cat, 1 if non-cat), of shape (1, number of examples)\n",
    "    layers_dims -- list containing the input size and each layer size, of length (number of layers + 1).\n",
    "    learning_rate -- learning rate of the gradient descent update rule\n",
    "    num_iterations -- number of iterations of the optimization loop\n",
    "    print_cost -- if True, it prints the cost every 100 steps\n",
    "    \n",
    "    Returns:\n",
    "    parameters -- parameters learnt by the model. They can then be used to predict.\n",
    "    \"\"\"\n",
    "\n",
    "    np.random.seed(1)\n",
    "    costs = []                         # keep track of cost\n",
    "    \n",
    "    # Parameters initialization.\n",
    "    #(≈ 1 line of code)\n",
    "    # parameters = ...\n",
    "    # YOUR CODE STARTS HERE\n",
    "    \n",
    "    \n",
    "    # YOUR CODE ENDS HERE\n",
    "    \n",
    "    # Loop (gradient descent)\n",
    "    for i in range(0, num_iterations):\n",
    "\n",
    "        # Forward propagation: [LINEAR -> RELU]*(L-1) -> LINEAR -> SIGMOID.\n",
    "        #(≈ 1 line of code)\n",
    "        # AL, caches = ...\n",
    "        # YOUR CODE STARTS HERE\n",
    "        \n",
    "        \n",
    "        # YOUR CODE ENDS HERE\n",
    "        \n",
    "        # Compute cost.\n",
    "        #(≈ 1 line of code)\n",
    "        # cost = ...\n",
    "        # YOUR CODE STARTS HERE\n",
    "        \n",
    "        \n",
    "        # YOUR CODE ENDS HERE\n",
    "    \n",
    "        # Backward propagation.\n",
    "        #(≈ 1 line of code)\n",
    "        # grads = ...    \n",
    "        # YOUR CODE STARTS HERE\n",
    "        \n",
    "        \n",
    "        # YOUR CODE ENDS HERE\n",
    " \n",
    "        # Update parameters.\n",
    "        #(≈ 1 line of code)\n",
    "        # parameters = ...\n",
    "        # YOUR CODE STARTS HERE\n",
    "        \n",
    "        \n",
    "        # YOUR CODE ENDS HERE\n",
    "                \n",
    "        # Print the cost every 100 iterations\n",
    "        if print_cost and i % 100 == 0 or i == num_iterations - 1:\n",
    "            print(\"Cost after iteration {}: {}\".format(i, np.squeeze(cost)))\n",
    "        if i % 100 == 0 or i == num_iterations:\n",
    "            costs.append(cost)\n",
    "    \n",
    "    return parameters, costs"
   ]
  },
  {
   "cell_type": "code",
   "execution_count": null,
   "metadata": {
    "deletable": false,
    "editable": false,
    "nbgrader": {
     "cell_type": "code",
     "checksum": "1f74e4d164e9274bfa921ff2ce310c93",
     "grade": true,
     "grade_id": "cell-ec1d0c26f291cd5f",
     "locked": true,
     "points": 10,
     "schema_version": 3,
     "solution": false,
     "task": false
    }
   },
   "outputs": [],
   "source": [
    "parameters, costs = L_layer_model(train_x, train_y, layers_dims, num_iterations = 1, print_cost = False)\n",
    "\n",
    "print(\"Cost after first iteration: \" + str(costs[0]))\n",
    "\n",
    "L_layer_model_test(L_layer_model)"
   ]
  },
  {
   "cell_type": "markdown",
   "metadata": {},
   "source": [
    "<a name='5-1'></a>\n",
    "### 5.1 - Train the model \n",
    "\n",
    "If your code passed the previous cell, run the cell below to train your model as a 4-layer neural network. \n",
    "\n",
    "- The cost should decrease on every iteration. \n",
    "\n",
    "- It may take up to 5 minutes to run 2500 iterations. "
   ]
  },
  {
   "cell_type": "code",
   "execution_count": null,
   "metadata": {},
   "outputs": [],
   "source": [
    "parameters, costs = L_layer_model(train_x, train_y, layers_dims, num_iterations = 2500, print_cost = True)"
   ]
  },
  {
   "cell_type": "markdown",
   "metadata": {},
   "source": [
    "**Expected Output**:\n",
    "<table> \n",
    "    <tr>\n",
    "        <td> <b>Cost after iteration 0</b></td>\n",
    "        <td> 0.771749 </td>\n",
    "    </tr>\n",
    "    <tr>\n",
    "        <td> <b>Cost after iteration 100</b></td>\n",
    "        <td> 0.672053 </td>\n",
    "    </tr>\n",
    "    <tr>\n",
    "        <td> <b>...</b></td>\n",
    "        <td> ... </td>\n",
    "    </tr>\n",
    "    <tr>\n",
    "        <td> <b>Cost after iteration 2499</b></td>\n",
    "        <td> 0.088439 </td>\n",
    "    </tr>\n",
    "</table>"
   ]
  },
  {
   "cell_type": "code",
   "execution_count": null,
   "metadata": {},
   "outputs": [],
   "source": [
    "pred_train = predict(train_x, train_y, parameters)"
   ]
  },
  {
   "cell_type": "markdown",
   "metadata": {},
   "source": [
    "**Expected Output**:\n",
    "\n",
    "<table>\n",
    "    <tr>\n",
    "    <td>\n",
    "        <b>Train Accuracy</b>\n",
    "    </td>\n",
    "    <td>\n",
    "    0.985645933014\n",
    "    </td>\n",
    "    </tr>\n",
    "</table>"
   ]
  },
  {
   "cell_type": "code",
   "execution_count": null,
   "metadata": {},
   "outputs": [],
   "source": [
    "pred_test = predict(test_x, test_y, parameters)"
   ]
  },
  {
   "cell_type": "markdown",
   "metadata": {},
   "source": [
    "**Expected Output**:\n",
    "\n",
    "<table> \n",
    "    <tr>\n",
    "        <td> <b>Test Accuracy</b></td>\n",
    "        <td> 0.8 </td>\n",
    "    </tr>\n",
    "</table>"
   ]
  },
  {
   "cell_type": "markdown",
   "metadata": {},
   "source": [
    "### Congrats! It seems that your 4-layer neural network has better performance (80%) than your 2-layer neural network (72%) on the same test set. \n",
    "\n",
    "This is pretty good performance for this task. Nice job! \n",
    "\n",
    "In the next course on \"Improving deep neural networks,\" you'll be able to obtain even higher accuracy by systematically searching for better hyperparameters: learning_rate, layers_dims, or num_iterations, for example.  "
   ]
  },
  {
   "cell_type": "markdown",
   "metadata": {},
   "source": [
    "<a name='6'></a>\n",
    "##  6 - Results Analysis\n",
    "\n",
    "First, take a look at some images the L-layer model labeled incorrectly. This will show a few mislabeled images. "
   ]
  },
  {
   "cell_type": "code",
   "execution_count": null,
   "metadata": {},
   "outputs": [],
   "source": [
    "print_mislabeled_images(classes, test_x, test_y, pred_test)"
   ]
  },
  {
   "cell_type": "markdown",
   "metadata": {},
   "source": [
    "**A few types of images the model tends to do poorly on include:** \n",
    "- Cat body in an unusual position\n",
    "- Cat appears against a background of a similar color\n",
    "- Unusual cat color and species\n",
    "- Camera Angle\n",
    "- Brightness of the picture\n",
    "- Scale variation (cat is very large or small in image) "
   ]
  },
  {
   "cell_type": "markdown",
   "metadata": {},
   "source": [
    "### Congratulations on finishing this assignment! \n",
    "\n",
    "You just built and trained a deep L-layer neural network, and applied it in order to distinguish cats from non-cats, a very serious and important task in deep learning. ;) \n",
    "\n",
    "By now, you've also completed all the assignments for Course 1 in the Deep Learning Specialization. Amazing work! If you'd like to test out how closely you resemble a cat yourself, there's an optional ungraded exercise below, where you can test your own image. \n",
    "\n",
    "Great work and hope to see you in the next course! "
   ]
  },
  {
   "cell_type": "markdown",
   "metadata": {},
   "source": [
    "<a name='7'></a>\n",
    "## 7 - Test with your own image (optional/ungraded exercise) ##\n",
    "\n",
    "From this point, if you so choose, you can use your own image to test  the output of your model. To do that follow these steps:\n",
    "\n",
    "1. Click on \"File\" in the upper bar of this notebook, then click \"Open\" to go on your Coursera Hub.\n",
    "2. Add your image to this Jupyter Notebook's directory, in the \"images\" folder\n",
    "3. Change your image's name in the following code\n",
    "4. Run the code and check if the algorithm is right (1 = cat, 0 = non-cat)!"
   ]
  },
  {
   "cell_type": "code",
   "execution_count": null,
   "metadata": {},
   "outputs": [],
   "source": [
    "## START CODE HERE ##\n",
    "my_image = \"my_image.jpg\" # change this to the name of your image file \n",
    "my_label_y = [1] # the true class of your image (1 -> cat, 0 -> non-cat)\n",
    "## END CODE HERE ##\n",
    "\n",
    "fname = \"images/\" + my_image\n",
    "image = np.array(Image.open(fname).resize((num_px, num_px)))\n",
    "plt.imshow(image)\n",
    "image = image / 255.\n",
    "image = image.reshape((1, num_px * num_px * 3)).T\n",
    "\n",
    "my_predicted_image = predict(image, my_label_y, parameters)\n",
    "\n",
    "\n",
    "print (\"y = \" + str(np.squeeze(my_predicted_image)) + \", your L-layer model predicts a \\\"\" + classes[int(np.squeeze(my_predicted_image)),].decode(\"utf-8\") +  \"\\\" picture.\")"
   ]
  },
  {
   "cell_type": "markdown",
   "metadata": {},
   "source": [
    "**References**:\n",
    "\n",
    "- for auto-reloading external module: http://stackoverflow.com/questions/1907993/autoreload-of-modules-in-ipython"
   ]
  }
 ],
 "metadata": {
  "coursera": {
   "course_slug": "neural-networks-deep-learning",
   "graded_item_id": "TSPse",
   "launcher_item_id": "24mxX"
  },
  "kernelspec": {
   "name": "python3",
   "display_name": "Python 3.8.3 64-bit ('base': conda)"
  },
  "language_info": {
   "codemirror_mode": {
    "name": "ipython",
    "version": 3
   },
   "file_extension": ".py",
   "mimetype": "text/x-python",
   "name": "python",
   "nbconvert_exporter": "python",
   "pygments_lexer": "ipython3",
   "version": "3.8.3"
  },
  "interpreter": {
   "hash": "b3ba2566441a7c06988d0923437866b63cedc61552a5af99d1f4fb67d367b25f"
  }
 },
 "nbformat": 4,
 "nbformat_minor": 2
}